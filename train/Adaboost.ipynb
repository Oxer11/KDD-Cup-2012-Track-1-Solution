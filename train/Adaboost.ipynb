{
 "cells": [
  {
   "cell_type": "code",
   "execution_count": 1,
   "metadata": {},
   "outputs": [
    {
     "data": {
      "text/plain": [
       "6095"
      ]
     },
     "execution_count": 1,
     "metadata": {},
     "output_type": "execute_result"
    }
   ],
   "source": [
    "f_item = open(\"track1/item.txt\", \"r\")\n",
    "n = countlines(f_item)"
   ]
  },
  {
   "cell_type": "code",
   "execution_count": 2,
   "metadata": {},
   "outputs": [],
   "source": [
    "seekstart(f_item)\n",
    "item_dict = Dict{Int32, Int32}()\n",
    "for i = 1:n\n",
    "    x = split(readline(f_item), '\\t')\n",
    "    item_dict[parse(Int32, x[1])] = i\n",
    "end"
   ]
  },
  {
   "cell_type": "code",
   "execution_count": 3,
   "metadata": {},
   "outputs": [],
   "source": [
    "struct User\n",
    "    id::Int32\n",
    "    age::Int16\n",
    "    gender::Int8\n",
    "    cnt_tweet::Int32\n",
    "    tag_list::Array{Int32, 1}\n",
    "end"
   ]
  },
  {
   "cell_type": "code",
   "execution_count": 4,
   "metadata": {},
   "outputs": [
    {
     "name": "stdout",
     "output_type": "stream",
     "text": [
      "130304\n"
     ]
    }
   ],
   "source": [
    "f_user_profile = open(\"track1/user_profile.txt\", \"r\")\n",
    "cnt_user = countlines(f_user_profile)\n",
    "\n",
    "Tag_dict = Dict{Int32, Int32}()\n",
    "id_tag = 0\n",
    "seekstart(f_user_profile)\n",
    "U = Array{User, 1}()\n",
    "for i = 1:cnt_user\n",
    "    x = split(readline(f_user_profile), '\\t')\n",
    "    tag_list = map(t->parse(Int32, t), split(x[5], ';'))\n",
    "    (tag_list[1] == 0) && (tag_list = Array{Int32, 1}())\n",
    "    for id in tag_list\n",
    "        (haskey(Tag_dict, id)) && continue\n",
    "        id_tag += 1\n",
    "        Tag_dict[id] = id_tag\n",
    "    end\n",
    "    try\n",
    "        x = map(t->parse(Int32, t), x[1:4])\n",
    "        x[2] = (x[2] < 1950) ? 0 :\n",
    "               (1950 ≤ x[2] < 2004) ? ceil((x[2] - 1950) / 2) + 1 : \n",
    "               (x[2] ≥ 2004) ? 28 : 29\n",
    "    catch ArgumentError\n",
    "        x[2] = \"29\"\n",
    "        x = map(t->parse(Int32, t), x[1:4])\n",
    "    end\n",
    "    x[4] = x[4] != 0 ? floor(log2(x[4])) : 0\n",
    "    x[2] += 1\n",
    "    x[3] += 1\n",
    "    x[4] += 1\n",
    "    push!(U, User(x[1], x[2], x[3], x[4], tag_list))\n",
    "end\n",
    "println(id_tag)"
   ]
  },
  {
   "cell_type": "code",
   "execution_count": 5,
   "metadata": {},
   "outputs": [],
   "source": [
    "# build user_dict\n",
    "user_dict = Dict{Int32, Int32}()\n",
    "id = 0\n",
    "for u in U\n",
    "    id += 1\n",
    "    user_dict[u.id] = id\n",
    "end"
   ]
  },
  {
   "cell_type": "code",
   "execution_count": 6,
   "metadata": {},
   "outputs": [
    {
     "data": {
      "text/plain": [
       "2320895"
      ]
     },
     "execution_count": 6,
     "metadata": {},
     "output_type": "execute_result"
    }
   ],
   "source": [
    "f_user_keyword = open(\"track1/user_key_word.txt\", \"r\")\n",
    "m_user_keyword = countlines(f_user_keyword)"
   ]
  },
  {
   "cell_type": "code",
   "execution_count": 7,
   "metadata": {},
   "outputs": [
    {
     "name": "stdout",
     "output_type": "stream",
     "text": [
      "255142\n"
     ]
    }
   ],
   "source": [
    "User_key = Dict{Int32, Array{Tuple{Int32, Float32}, 1}}()\n",
    "seekstart(f_user_keyword)\n",
    "Key_dict = Dict{Int32, Int32}()\n",
    "key_id = 0\n",
    "for i = 1:m_user_keyword\n",
    "    line = split(readline(f_user_keyword))\n",
    "    user_id = user_dict[parse(Int32, line[1])]\n",
    "    keywords = map(t->split(t, ':'), split(line[2], ';'))\n",
    "    keywords = map((t->(parse(Int32, t[1]), parse(Float32, t[2]))), keywords)\n",
    "    User_key[user_id] = keywords\n",
    "    for x in User_key[user_id]\n",
    "        if !haskey(Key_dict, x[1])\n",
    "            key_id += 1\n",
    "            Key_dict[x[1]] = key_id\n",
    "        end\n",
    "    end\n",
    "end\n",
    "println(key_id)"
   ]
  },
  {
   "cell_type": "code",
   "execution_count": 8,
   "metadata": {},
   "outputs": [
    {
     "data": {
      "text/plain": [
       "50655143"
      ]
     },
     "execution_count": 8,
     "metadata": {},
     "output_type": "execute_result"
    }
   ],
   "source": [
    "f_user_sns = open(\"track1/user_sns.txt\", \"r\")\n",
    "len_sns = countlines(f_user_sns)"
   ]
  },
  {
   "cell_type": "code",
   "execution_count": 9,
   "metadata": {},
   "outputs": [],
   "source": [
    "seekstart(f_user_sns)\n",
    "S = Array{Array{Int32, 1}, 1}()\n",
    "for i = 1:cnt_user\n",
    "    push!(S, Array{Int32, 1}())\n",
    "end\n",
    "len_sns = 1000\n",
    "for i = 1:len_sns\n",
    "    x = map(t->user_dict[parse(Int32, t)], split(readline(f_user_sns), '\\t'))\n",
    "    push!(S[x[1]], x[2])\n",
    "end"
   ]
  },
  {
   "cell_type": "code",
   "execution_count": 10,
   "metadata": {},
   "outputs": [
    {
     "data": {
      "text/plain": [
       "10632833"
      ]
     },
     "execution_count": 10,
     "metadata": {},
     "output_type": "execute_result"
    }
   ],
   "source": [
    "f_user_action = open(\"track1/user_action.txt\", \"r\")\n",
    "len_action = countlines(f_user_action)"
   ]
  },
  {
   "cell_type": "code",
   "execution_count": 11,
   "metadata": {},
   "outputs": [],
   "source": [
    "seekstart(f_user_action)\n",
    "A = Array{Array{Int32, 1}, 1}()\n",
    "for i = 1:cnt_user\n",
    "    push!(A, Array{Int32, 1}())\n",
    "end\n",
    "len_action = 1000\n",
    "for i = 1:len_action\n",
    "    x = map(t->parse(Int32, t), split(readline(f_user_action), '\\t'))\n",
    "    push!(A[user_dict[x[1]]], user_dict[x[2]])\n",
    "end"
   ]
  },
  {
   "cell_type": "code",
   "execution_count": 12,
   "metadata": {},
   "outputs": [
    {
     "data": {
      "text/plain": [
       "11765848"
      ]
     },
     "execution_count": 12,
     "metadata": {},
     "output_type": "execute_result"
    }
   ],
   "source": [
    "fin = open(\"track1/pair_train.txt\", \"r\")\n",
    "m = countlines(fin)"
   ]
  },
  {
   "cell_type": "code",
   "execution_count": 13,
   "metadata": {},
   "outputs": [],
   "source": [
    "seekstart(fin)\n",
    "m = 10000\n",
    "Ω = Array{Any, 1}()\n",
    "for i = 1:m\n",
    "    x = map(t->parse(Int32, t), split(readline(fin), ' '))\n",
    "    x[1] = user_dict[x[1]]\n",
    "    push!(x, i)\n",
    "    push!(Ω, x)\n",
    "end"
   ]
  },
  {
   "cell_type": "code",
   "execution_count": 14,
   "metadata": {},
   "outputs": [
    {
     "data": {
      "text/plain": [
       "update_timeq (generic function with 1 method)"
      ]
     },
     "execution_count": 14,
     "metadata": {},
     "output_type": "execute_result"
    }
   ],
   "source": [
    "function sigmoid(x)\n",
    "    return 1 / (1 + exp(-x))\n",
    "end\n",
    "\n",
    "function cal_timeb(k, t)\n",
    "    bₜ = (t - d⁻) / (d⁺ - d⁻) * bₜ⁻[k] + (d⁺ - t) / (d⁺ - d⁻) * bₜ⁺[k]\n",
    "    s = (t - d⁻) % 86400\n",
    "    bₛ = (s - s⁻) / (s⁺ - s⁻) * bₛ⁻[k] + (s⁺ - s) / (s⁺ - s⁻) * bₛ⁺[k]\n",
    "    hour = s ÷ 3600\n",
    "    return bₕ[k, hour + 1] + bₜ + bₛ\n",
    "end\n",
    "\n",
    "function cal_timeq(k, t)\n",
    "    zₜ = (t - d⁻) / (d⁺ - d⁻) * zₜ⁻[k, :] + (d⁺ - t) / (d⁺ - d⁻) * zₜ⁺[k, :]\n",
    "    s = (t - d⁻) % 86400\n",
    "    zₛ = (s - s⁻) / (s⁺ - s⁻) * zₛ⁻[k, :] + (s⁺ - s) / (s⁺ - s⁻) * zₛ⁺[k, :]\n",
    "    return zₜ + zₛ\n",
    "end\n",
    "\n",
    "function update_timeb(k, t, Δ)\n",
    "    global bₜ⁻[k] += (t - d⁻) / (d⁺ - d⁻) * Δ\n",
    "    global bₜ⁺[k] += (d⁺ - t) / (d⁺ - d⁻) * Δ\n",
    "    s = (t - d⁻) % 86400\n",
    "    global bₛ⁻[k] += (s - s⁻) / (s⁺ - s⁻) * Δ\n",
    "    global bₛ⁺[k] += (s⁺ - s) / (s⁺ - s⁻) * Δ\n",
    "    hour = s ÷ 3600\n",
    "    global bₕ[k, hour + 1] += Δ\n",
    "end\n",
    "\n",
    "function update_timeq(k, t, Δ)\n",
    "    global zₜ⁻[k, :] += (t - d⁻) / (d⁺ - d⁻) * Δ\n",
    "    global zₜ⁺[k, :] += (d⁺ - t) / (d⁺ - d⁻) * Δ\n",
    "    s = (t - d⁻) % 86400\n",
    "    global zₛ⁻[k, :] += (s - s⁻) / (s⁺ - s⁻) * Δ\n",
    "    global zₛ⁺[k, :] += (s⁺ - s) / (s⁺ - s⁻) * Δ\n",
    "end"
   ]
  },
  {
   "cell_type": "code",
   "execution_count": 15,
   "metadata": {},
   "outputs": [
    {
     "data": {
      "text/plain": [
       "Train (generic function with 1 method)"
      ]
     },
     "execution_count": 15,
     "metadata": {},
     "output_type": "execute_result"
    }
   ],
   "source": [
    "function Train(Ω, k)\n",
    "    lst_error, iter = 0, 0 \n",
    "    while true\n",
    "        try\n",
    "            iter += 1\n",
    "            error = 0\n",
    "            for x in Ω\n",
    "                u, i₁, i₂ = U[x[1]], U[user_dict[x[3]]], U[user_dict[x[5]]]\n",
    "                x₃, x₅ = item_dict[x[3]], item_dict[x[5]]\n",
    "                user_key = Dict{Int32, Float32}()\n",
    "                user_tag = Dict{Int32, Bool}()\n",
    "                for key in User_key[x[1]]\n",
    "                    user_key[key[1]] = key[2]\n",
    "                end\n",
    "                for tag in u.tag_list\n",
    "                    user_tag[tag] = 1\n",
    "                end\n",
    "                # Calculate pᵤ\n",
    "                p_tot = p[k, :, x[1]]\n",
    "                for xx in S[x[1]]\n",
    "                    p_tot += y[k, :, xx] / (size(S[x[1]], 1)^0.4)\n",
    "                end\n",
    "                for xx in A[x[1]]\n",
    "                    p_tot += y[k, :, xx] / (size(A[x[1]], 1)^0.5)\n",
    "                end\n",
    "                p_tot += yₐ[k, :, u.age, u.gender] + yₜ[k, :, u.cnt_tweet]\n",
    "                for key in User_key[x[1]]\n",
    "                    p_tot += key[2] * yₖ[k, :, Key_dict[key[1]]]\n",
    "                end\n",
    "                for tag in u.tag_list\n",
    "                    p_tot += yₚ[k, :, Tag_dict[tag]] / (size(u.tag_list, 1)^0.5)\n",
    "                end\n",
    "                # Calculate bᵢ\n",
    "                b = bᵢ[k, x₅] - bᵢ[k, x₃] \n",
    "                    + bₐ[k, u.age, x₅] - bₐ[k, u.age, x₃] \n",
    "                    + bᵧ[k, u.gender, x₅] - bᵧ[k, u.gender, x₃]\n",
    "                    + _bₐ[k, i₂.age, x[1]] - _bₐ[k, i₁.age, x[1]]\n",
    "                    + _bᵧ[k, i₂.gender, x[1]] - _bᵧ[k, i₁.gender, x[1]]\n",
    "                    + cal_timeb(k, x[4]) - cal_timeb(k, x[2])\n",
    "                for key in User_key[user_dict[x[5]]]\n",
    "                    (!haskey(user_key, key)) && continue\n",
    "                    b += bₖ[k, Key_dict[key]]\n",
    "                end\n",
    "                for key in User_key[user_dict[x[3]]]\n",
    "                    (!haskey(user_key, key)) && continue\n",
    "                    b -= bₖ[k, Key_dict[key]]\n",
    "                end\n",
    "                for tag in i₂.tag_list\n",
    "                    (!haskey(user_tag, tag)) && continue\n",
    "                    b += bₚ[k, Tag_dict[tag]]\n",
    "                end\n",
    "                for tag in i₁.tag_list\n",
    "                    (!haskey(user_tag, tag)) && continue\n",
    "                    b -= bₚ[k, Tag_dict[tag]]\n",
    "                end\n",
    "                # Calculate qᵢ\n",
    "                qᵢ = q[k, :, x₅] - q[k, :, x₃] + cal_timeq(k, x[4]) - cal_timeq(k, x[2])\n",
    "\n",
    "                # Predict Error\n",
    "                r = sigmoid(b + qᵢ[:]' * p_tot)\n",
    "                error += r\n",
    "\n",
    "                # Update bᵢ\n",
    "                bᵢ[k, x₅] += α * r * (1 - r)\n",
    "                bₐ[k, u.age, x₅] += α * r * (1 - r)\n",
    "                bᵧ[k, u.gender, x₅] += α * r * (1 - r)\n",
    "                _bₐ[k, i₂.age, x[1]] += α * r * (1 - r) \n",
    "                _bᵧ[k, i₂.gender, x[1]] += α * r * (1 - r)  \n",
    "                update_timeb(k, x[4], α * r * (1 - r))\n",
    "                bᵢ[k, x₃] -= α * r * (1 - r)\n",
    "                bₐ[k, u.age, x₃] -= α * r * (1 - r)\n",
    "                bᵧ[k, u.gender, x₃] -= α * r * (1 - r)\n",
    "                _bₐ[k, i₁.age, x[1]] -= α * r * (1 - r)\n",
    "                _bᵧ[k, i₁.gender, x[1]] -= α * r * (1 - r)\n",
    "                update_timeb(k, x[2], - α * r * (1 - r))\n",
    "                for key in User_key[user_dict[x[5]]]\n",
    "                    (!haskey(user_key, key)) && continue\n",
    "                    bₖ[k, Key_dict[key]] += α * r * (1 - r)\n",
    "                end\n",
    "                for key in User_key[user_dict[x[3]]]\n",
    "                    (!haskey(user_key, key)) && continue\n",
    "                    bₖ[k, Key_dict[key]] -= α * r * (1 - r)\n",
    "                end\n",
    "                # Update pᵤ\n",
    "                for xx in S[x[1]]\n",
    "                    y[k, :, xx] += (α * r * (1 - r) / (size(S[x[1]], 1)^0.4)) * qᵢ\n",
    "                end\n",
    "                for xx in A[x[1]]\n",
    "                    y[k, :, xx] += (α * r * (1 - r) / (size(A[x[1]], 1)^0.5)) * qᵢ\n",
    "                end\n",
    "                p[k, :, x[1]] += α * r * (1 - r) * qᵢ\n",
    "                yₐ[k, :, u.age, u.gender] += α * r * (1 - r) * qᵢ\n",
    "                yₜ[k, :, u.cnt_tweet] += α * r * (1 - r) * qᵢ\n",
    "                for key in User_key[x[1]]\n",
    "                    yₖ[k, :, Key_dict[key[1]]] += key[2] * α * r * (1 - r) * qᵢ\n",
    "                end\n",
    "                for tag in u.tag_list\n",
    "                    yₚ[k, :, Tag_dict[tag]] += α * r * (1 - r) / (size(u.tag_list, 1)^0.5) * qᵢ\n",
    "                end\n",
    "                # Update qᵢ\n",
    "                q[k, :, x₅] += α * r * (1 - r) * p_tot\n",
    "                update_timeq(k, x[4], α * r * (1 - r) * p_tot)\n",
    "                q[k, :, x₃] -= α * r * (1 - r) * p_tot\n",
    "                update_timeq(k, x[2], - α * r * (1 - r) * p_tot)\n",
    "            end\n",
    "            error /= _m\n",
    "            (iter % 1 == 0) && println(\"$iter $error\")\n",
    "            lst_error = error\n",
    "        catch InterruptException\n",
    "            break\n",
    "        end\n",
    "    end\n",
    "    println(lst_error)\n",
    "end"
   ]
  },
  {
   "cell_type": "code",
   "execution_count": 16,
   "metadata": {},
   "outputs": [
    {
     "data": {
      "text/plain": [
       "Predict (generic function with 1 method)"
      ]
     },
     "execution_count": 16,
     "metadata": {},
     "output_type": "execute_result"
    }
   ],
   "source": [
    "function Predict(Ω, k)\n",
    "    error = Array{Any, 1}()\n",
    "    for x in Ω\n",
    "        u, i₁, i₂ = U[x[1]], U[user_dict[x[3]]], U[user_dict[x[5]]]\n",
    "        x₃, x₅ = item_dict[x[3]], item_dict[x[5]]\n",
    "        user_key = Dict{Int32, Float32}()\n",
    "        user_tag = Dict{Int32, Bool}()\n",
    "        for key in User_key[x[1]]\n",
    "            user_key[key[1]] = key[2]\n",
    "        end\n",
    "        for tag in u.tag_list\n",
    "            user_tag[tag] = 1\n",
    "        end\n",
    "        # Calculate pᵤ\n",
    "        p_tot = p[k, :, x[1]]\n",
    "        for xx in S[x[1]]\n",
    "            p_tot += y[k, :, xx] / (size(S[x[1]], 1)^0.4)\n",
    "        end\n",
    "        for xx in A[x[1]]\n",
    "            p_tot += y[k, :, xx] / (size(A[x[1]], 1)^0.5)\n",
    "        end\n",
    "        p_tot += yₐ[k, :, u.age, u.gender] + yₜ[k, :, u.cnt_tweet]\n",
    "        for key in User_key[x[1]]\n",
    "            p_tot += key[2] * yₖ[k, :, Key_dict[key[1]]]\n",
    "        end\n",
    "        for tag in u.tag_list\n",
    "            p_tot += yₚ[k, :, Tag_dict[tag]] / (size(u.tag_list, 1)^0.5)\n",
    "        end\n",
    "        # Calculate bᵢ\n",
    "        b = bᵢ[k, x₅] - bᵢ[k, x₃] \n",
    "            + bₐ[k, u.age, x₅] - bₐ[k, u.age, x₃] \n",
    "            + bᵧ[k, u.gender, x₅] - bᵧ[k, u.gender, x₃]\n",
    "            + _bₐ[k, i₂.age, x[1]] - _bₐ[k, i₁.age, x[1]]\n",
    "            + _bᵧ[k, i₂.gender, x[1]] - _bᵧ[k, i₁.gender, x[1]]\n",
    "            + cal_timeb(k, x[4]) - cal_timeb(k, x[2])\n",
    "        for key in User_key[user_dict[x[5]]]\n",
    "            (!haskey(user_key, key)) && continue\n",
    "            b += bₖ[k, Key_dict[key]]\n",
    "        end\n",
    "        for key in User_key[user_dict[x[3]]]\n",
    "            (!haskey(user_key, key)) && continue\n",
    "            b -= bₖ[k, Key_dict[key]]\n",
    "        end\n",
    "        for tag in i₂.tag_list\n",
    "            (!haskey(user_tag, tag)) && continue\n",
    "            b += bₚ[k, Tag_dict[tag]]\n",
    "        end\n",
    "        for tag in i₁.tag_list\n",
    "            (!haskey(user_tag, tag)) && continue\n",
    "            b -= bₚ[k, Tag_dict[tag]]\n",
    "        end\n",
    "        # Calculate qᵢ\n",
    "        qᵢ = q[k, :, x₅] - q[k, :, x₃] + cal_timeq(k, x[4]) - cal_timeq(k, x[2])\n",
    "\n",
    "        # Predict Error\n",
    "        r = sigmoid(b + qᵢ[:]' * p_tot)\n",
    "        push!(error, (r > 0.5))\n",
    "    end\n",
    "    return error\n",
    "end"
   ]
  },
  {
   "cell_type": "code",
   "execution_count": null,
   "metadata": {
    "scrolled": false
   },
   "outputs": [],
   "source": [
    "using StatsBase\n",
    "\n",
    "K = 5\n",
    "W = zeros(m, 1)\n",
    "w = zeros(K, 1)\n",
    "for i = 1:m\n",
    "    W[i] = 1/m\n",
    "end\n",
    "\n",
    "d = 50\n",
    "α = 0.001\n",
    "d⁻, d⁺ = 1318348785, 1322668798\n",
    "s⁻, s⁺ = 0, 86400\n",
    "bₕ = rand(K, 24)\n",
    "bₖ = rand(K, key_id)\n",
    "bₜ⁻, bₜ⁺ = rand(K, 1), rand(K, 1)\n",
    "bₛ⁻, bₛ⁺ = rand(K, 1), rand(K, 1)\n",
    "zₜ⁻, zₜ⁺ = rand(K, d), rand(K, d)\n",
    "zₛ⁻, zₛ⁺ = rand(K, d), rand(K, d)\n",
    "p = rand(K, d, cnt_user)\n",
    "y = rand(K, d, cnt_user)\n",
    "q = rand(K, d, n)\n",
    "bᵢ = rand(K, n)\n",
    "bₐ = rand(K, 30, n)\n",
    "bᵧ = rand(K, 4, n)\n",
    "_bₐ = rand(K, 30, cnt_user)\n",
    "_bᵧ = rand(K, 4, cnt_user)\n",
    "bₚ = rand(K, id_tag)\n",
    "yₐ = rand(K, d, 30, 4)\n",
    "yₜ = rand(K, d, 16)\n",
    "yₖ = rand(K, d, key_id)\n",
    "yₚ = rand(K, d, id_tag)\n",
    "\n",
    "_m = 5000000\n",
    "\n",
    "for k = 1:K\n",
    "    Ωₖ = StatsBase.sample(Ω, ProbabilityWeights(W[:]), _m; replace=true, ordered=true)\n",
    "    println(Ωₖ[1:10])\n",
    "    Train(Ωₖ, k)\n",
    "    error = Predict(Ωₖ, k)\n",
    "    w[k] = 1 - sum(error)/_m\n",
    "    for i = 1:_m\n",
    "        (error[i]) && (W[Ωₖ[i][6]] *= w[k] / (1 - w[k]))\n",
    "    end\n",
    "    W /= sum(W)\n",
    "    println(w[k])\n",
    "    println(W[1:40])\n",
    "end"
   ]
  },
  {
   "cell_type": "code",
   "execution_count": 22,
   "metadata": {},
   "outputs": [
    {
     "name": "stdout",
     "output_type": "stream",
     "text": [
      "Any[(2.30986, 713240), (2.30986, 1760654), (2.30986, 592273), (2.30986, 2417022), (2.30986, 2105722), (2.30986, 1774684), (2.30986, 1774687), (2.30986, 651589), (2.30986, 2105511), (2.30986, 1774708), (2.30986, 713242), (2.30986, 1774718), (2.30986, 1870054), (2.30986, 699215), (2.30986, 441554), (2.30986, 1774422), (2.30986, 1760401), (2.30986, 2105550), (2.30986, 1837210), (2.30986, 2274594), (2.30986, 2022076), (2.30986, 655717), (2.30986, 1774463), (2.30986, 461710), (2.30986, 760113), (2.30986, 1760338), (2.30986, 1774455), (2.30986, 1606596), (2.30986, 1774457), (2.30986, 520267), (2.30986, 1494039), (2.30986, 1775024), (2.30986, 2018604), (2.30986, 1760374), (2.30986, 1774461), (2.30986, 1774969), (2.30986, 1562118), (2.30986, 665932), (2.30986, 725380), (2.30986, 535240), (2.30986, 713254), (2.30986, 1606574), (2.30986, 713229), (2.30986, 458026), (2.30986, 704241), (2.30986, 2105482), (2.30986, 1774550), (2.30986, 1774963), (2.30986, 1774452), (2.30986, 2105595), (2.30986, 1606609), (2.30986, 1774844), (2.30986, 218438), (2.30986, 647356)]\n",
      "Any[(2.30986, 1760385), (2.30986, 2105458), (2.30986, 1606902), (2.30986, 725379), (2.30986, 2105489), (2.30986, 1774852), (2.30986, 1774868), (2.30986, 1760338), (2.30986, 1774723), (2.30986, 1774848), (2.30986, 1774952), (2.30986, 1774617), (2.30986, 1774520), (2.30986, 1760654), (2.30986, 520729), (2.30986, 1842086), (2.30986, 1197038), (2.30986, 744851), (2.30986, 172508), (2.30986, 330571), (2.30986, 1760350), (2.30986, 1213266), (2.30986, 505220), (2.30986, 1760410), (2.30986, 715470), (2.30986, 1760402), (2.30986, 1606743), (2.30986, 1774705), (2.30986, 622104), (2.30986, 1774536), (2.30986, 1774707), (2.30986, 1774708), (2.30986, 1928678), (2.30986, 1760360), (2.30986, 2163868), (2.30986, 276121), (2.30986, 1606574), (2.30986, 753501), (2.30986, 1774568), (2.30986, 1774677), (2.30986, 725380), (2.30986, 2105349), (2.30986, 1606596), (2.30986, 1774938), (2.30986, 1259766), (2.30986, 1760388), (2.30986, 1760374), (2.30986, 1774996), (2.30986, 1505267), (2.30986, 713260), (2.30986, 1675399), (2.30986, 1774550), (2.30986, 1774649), (2.30986, 1774851), (2.30986, 1760376), (2.30986, 1775025), (2.30986, 1774969), (2.30986, 698999), (2.30986, 932098), (2.30986, 1774776), (2.30986, 1775011), (2.30986, 2012081), (2.30986, 647356)]\n",
      "Any[(2.30986, 624922), (2.30986, 1606902), (2.30986, 2105722), (2.30986, 447661), (2.30986, 713165), (2.30986, 2420902), (2.30986, 1774952), (2.30986, 1760320), (2.30986, 1775076), (2.30986, 1774532), (2.30986, 1244528), (2.30986, 2105484), (2.30986, 456253), (2.30986, 1760654), (2.30986, 2105561), (2.30986, 2417022), (2.30986, 1760374), (2.30986, 1606600), (2.30986, 1760338), (2.30986, 1774848), (2.30986, 724706), (2.30986, 2335877), (2.30986, 2105504), (2.30986, 1489419), (2.30986, 562574), (2.30986, 1606574), (2.30986, 218438), (2.30986, 1774505), (2.30986, 563514), (2.30986, 1775044), (2.30986, 586592)]\n",
      "Any[(2.30986, 1774934), (2.30986, 1775102), (2.30986, 513098), (2.30986, 651131), (2.30986, 2105562), (2.30986, 713240), (2.30986, 1774507), (2.30986, 2105484), (2.30986, 1774848), (2.30986, 577332), (2.30986, 1774520), (2.30986, 1774446), (2.30986, 969219), (2.30986, 2105781), (2.30986, 2105630), (2.30986, 1774954), (2.30986, 1774849), (2.30986, 1774516), (2.30986, 1928741), (2.30986, 729311), (2.30986, 713165), (2.30986, 269465), (2.30986, 753484), (2.30986, 2105561), (2.30986, 536451), (2.30986, 516110), (2.30986, 783463), (2.30986, 1774706), (2.30986, 2417022), (2.30986, 1774532), (2.30986, 1760356), (2.30986, 713310), (2.30986, 2105780), (2.30986, 1760377), (2.30986, 2105502), (2.30986, 2105563), (2.30986, 754522), (2.30986, 731389), (2.30986, 2241424), (2.30986, 769385), (2.30986, 193952), (2.30986, 1774938), (2.30986, 1559824), (2.30986, 504783), (2.30986, 1774495), (2.30986, 859284), (2.30986, 1760423), (2.30986, 2105448), (2.30986, 713228), (2.30986, 713251), (2.30986, 2339549), (2.30986, 1774776)]\n",
      "Any[(2.30986, 1774594), (2.30986, 1774816), (2.30986, 1774934), (2.30986, 1774479), (2.30986, 2105722), (2.30986, 1899066), (2.30986, 1774638), (2.30986, 1760618), (2.30986, 592273), (2.30986, 1774506), (2.30986, 1249277), (2.30986, 447661), (2.30986, 1774925), (2.30986, 2105603), (2.30986, 2013565), (2.30986, 1774718), (2.30986, 1774503), (2.30986, 1774753), (2.30986, 731389), (2.30986, 1606474), (2.30986, 520267), (2.30986, 2335878), (2.30986, 1774960), (2.30986, 731434), (2.30986, 1638658), (2.30986, 859175), (2.30986, 1928732), (2.30986, 2393452), (2.30986, 2105504), (2.30986, 1774457), (2.30986, 1774509), (2.30986, 665932), (2.30986, 1774717), (2.30986, 1837210), (2.30986, 1774849), (2.30986, 1774574), (2.30986, 557979), (2.30986, 374244), (2.30986, 1928655), (2.30986, 1494039), (2.30986, 1489419), (2.30986, 1774722), (2.30986, 1775076), (2.30986, 573423), (2.30986, 1774681), (2.30986, 1972159), (2.30986, 1774713), (2.30986, 193952), (2.30986, 713225), (2.30986, 1774977), (2.30986, 1774966), (2.30986, 2404454), (2.30986, 2105537), (2.30986, 1774963), (2.30986, 218438), (2.30986, 1775044)]\n",
      "Any[(2.30986, 544479), (2.30986, 1505267), (2.30986, 1774594), (2.30986, 1231352), (2.30986, 627961), (2.30986, 101266), (2.30986, 1774649), (2.30986, 1774909), (2.30986, 233300), (2.30986, 1774946), (2.30986, 1774753), (2.30986, 1760353), (2.30986, 665932), (2.30986, 2105465), (2.30986, 1774692), (2.30986, 655717), (2.30986, 2105537), (2.30986, 1774713), (2.30986, 1775057), (2.30986, 1760385), (2.30986, 731389), (2.30986, 713240), (2.30986, 1774789), (2.30986, 1774722), (2.30986, 1760386), (2.30986, 1760350), (2.30986, 1774963), (2.30986, 1774717), (2.30986, 753501), (2.30986, 2105598), (2.30986, 798225), (2.30986, 1675399), (2.30986, 727272), (2.30986, 1775011)]\n",
      "Any[(2.30986, 346092), (2.30986, 724489), (2.30986, 1774617), (2.30986, 577590), (2.30986, 1774506), (2.30986, 742423), (2.30986, 646139), (2.30986, 713324), (2.30986, 2335873), (2.30986, 1774957), (2.30986, 2181774), (2.30986, 1606593), (2.30986, 1774613), (2.30986, 1774641), (2.30986, 1950713), (2.30986, 1086517), (2.30986, 723577), (2.30986, 332673), (2.30986, 1928728), (2.30986, 713224), (2.30986, 879962), (2.30986, 2310905), (2.30986, 1606523), (2.30986, 1774453), (2.30986, 1446637), (2.30986, 1774511), (2.30986, 520729), (2.30986, 330571), (2.30986, 1775049), (2.30986, 655550), (2.30986, 1774868), (2.30986, 1349806), (2.30986, 1567096), (2.30986, 1606610), (2.30986, 824521), (2.30986, 731434), (2.30986, 1760352), (2.30986, 2105527), (2.30986, 1551237), (2.30986, 1760346), (2.30986, 2105498), (2.30986, 725304), (2.30986, 2013565), (2.30986, 1928671), (2.30986, 1774464), (2.30986, 670442), (2.30986, 2008547), (2.30986, 2105480), (2.30986, 1774463), (2.30986, 424477), (2.30986, 713242), (2.30986, 713260), (2.30986, 1606607), (2.30986, 2224167), (2.30986, 561053), (2.30986, 1760323), (2.30986, 1072737), (2.30986, 682877), (2.30986, 725383), (2.30986, 441554), (2.30986, 2105486), (2.30986, 1259766), (2.30986, 1606557), (2.30986, 338764), (2.30986, 436056), (2.30986, 1606600), (2.30986, 1606638), (2.30986, 1928740), (2.30986, 1861429), (2.30986, 713254), (2.30986, 859545), (2.30986, 713225), (2.30986, 1760381), (2.30986, 458026), (2.30986, 2105537), (2.30986, 1760644), (2.30986, 713299), (2.30986, 1774972)]\n",
      "Any[(2.30986, 1774635), (2.30986, 725304), (2.30986, 2105468), (2.30986, 1774816), (2.30986, 2420902), (2.30986, 713324), (2.30986, 1760381), (2.30986, 725379), (2.30986, 1774925), (2.30986, 724489), (2.30986, 1774868), (2.30986, 1774455), (2.30986, 1774482), (2.30986, 1760323), (2.30986, 1774723), (2.30986, 1760401), (2.30986, 1774536), (2.30986, 1870054), (2.30986, 531776), (2.30986, 1774718), (2.30986, 1774839), (2.30986, 647225), (2.30986, 1760388), (2.30986, 713225), (2.30986, 665932), (2.30986, 1774574), (2.30986, 594401), (2.30986, 1606606), (2.30986, 1774977), (2.30986, 1774969), (2.30986, 403259), (2.30986, 713250)]\n"
     ]
    }
   ],
   "source": [
    "function read_from_log_test(f)\n",
    "    x = split(readline(f), '\\t')\n",
    "    x = map(t->parse(Int32, t), x[1:4])\n",
    "    return x\n",
    "end\n",
    "\n",
    "function test(f_rec_log_test, fout, key)\n",
    "    m_test = countlines(f_rec_log_test)\n",
    "    seekstart(f_rec_log_test)\n",
    "    user_cnt, i = 0, 1\n",
    "    cur = read_from_log_test(f_rec_log_test)\n",
    "    #m_test = 200\n",
    "    while i <= m_test\n",
    "        j = i + 1\n",
    "        user_cnt += 1\n",
    "        _Ω = Array{Any, 1}()\n",
    "        push!(_Ω, cur)\n",
    "        while j <= m_test\n",
    "            cur = read_from_log_test(f_rec_log_test)\n",
    "            (cur[1] != _Ω[1][1]) && break\n",
    "            j += 1\n",
    "            push!(_Ω, cur)\n",
    "        end\n",
    "        (i ÷ 5000000 != j ÷ 5000000) && println(i, ' ', j)\n",
    "        dict = Array{Any, 1}()\n",
    "        x₁ = user_dict[_Ω[1][1]]\n",
    "        u = U[x₁]\n",
    "        user_key = Dict{Int32, Float32}()\n",
    "        user_tag = Dict{Int32, Bool}()\n",
    "        for key in User_key[x₁]\n",
    "            user_key[key[1]] = key[2]\n",
    "        end\n",
    "        for tag in u.tag_list\n",
    "            user_tag[tag] = 1\n",
    "        end\n",
    "        p_tot = Array{Any, 1}()\n",
    "        for k = 1:K\n",
    "            push!(p_tot, p[k, :, x₁])\n",
    "            for xx in S[x₁]\n",
    "                p_tot[k] += y[k, :, xx] / (size(S[x₁], 1)^0.4)\n",
    "            end\n",
    "            for xx in A[x₁]\n",
    "                p_tot[k] += y[k, :, xx] / (size(A[x₁], 1)^0.5)\n",
    "            end\n",
    "            p_tot[k] += yₐ[k, :, u.age, u.gender] + yₜ[k, :, u.cnt_tweet]\n",
    "            for key in User_key[x₁]\n",
    "                p_tot[k] += key[2] * yₖ[k, :, Key_dict[key[1]]]\n",
    "            end\n",
    "            for tag in u.tag_list\n",
    "                p_tot[k] += yₚ[k, :, Tag_dict[tag]] / (size(u.tag_list, 1)^0.5)\n",
    "            end\n",
    "        end\n",
    "        for x in _Ω[1:j-i]\n",
    "            x₂ = item_dict[x[2]]\n",
    "            i₂ = U[user_dict[x[2]]] \n",
    "            score = 0\n",
    "            for k = 1:K\n",
    "                b = bᵢ[k, x₂] + cal_timeb(k, x[4]) + bₐ[k, u.age, x₂] + bᵧ[k, u.gender, x₂] + _bₐ[k, i₂.age, x₁] + _bᵧ[k, i₂.gender, x₁]\n",
    "                for key in User_key[user_dict[x[2]]]\n",
    "                    (!haskey(user_key, key)) && continue\n",
    "                    b += bₖ[k, Key_dict[key]]\n",
    "                end\n",
    "                for tag in i₂.tag_list\n",
    "                    (!haskey(user_tag, tag)) && continue\n",
    "                    b += bₚ[k, Tag_dict[tag]]\n",
    "                end\n",
    "                qᵢ = q[k, :, x₂] + cal_timeq(k, x[4])\n",
    "                score += log((1-w[k])/w[k]) * sigmoid(b + qᵢ[:]' * p_tot[k])\n",
    "            end\n",
    "            push!(dict, (score, x[2]))\n",
    "        end\n",
    "        sort!(dict)\n",
    "        println(dict)\n",
    "        write(fout, \"$(_Ω[1][1]),\")\n",
    "        for k = 1:min(size(dict, 1), 3)\n",
    "            t = size(dict, 1) - k + 1\n",
    "            write(fout, ((k == 1) ? \"\" : \" \") * \"$(dict[t][2])\")\n",
    "        end\n",
    "        write(fout, \"\\n\")\n",
    "        i = j\n",
    "    end\n",
    "end\n",
    "\n",
    "fout = open(\"test.csv\", \"w\")\n",
    "write(fout, \"id,clicks\\n\")\n",
    "\n",
    "test(open(\"track1/rec_log_test_pub.txt\", \"r\"), fout, \"Public\")\n",
    "test(open(\"track1/rec_log_test_pri.txt\", \"r\"), fout, \"Private\")\n",
    "\n",
    "close(fout)"
   ]
  },
  {
   "cell_type": "code",
   "execution_count": null,
   "metadata": {},
   "outputs": [],
   "source": []
  }
 ],
 "metadata": {
  "@webio": {
   "lastCommId": null,
   "lastKernelId": null
  },
  "kernelspec": {
   "display_name": "Julia 1.1.0",
   "language": "julia",
   "name": "julia-1.1"
  },
  "language_info": {
   "file_extension": ".jl",
   "mimetype": "application/julia",
   "name": "julia",
   "version": "1.1.0"
  }
 },
 "nbformat": 4,
 "nbformat_minor": 2
}
