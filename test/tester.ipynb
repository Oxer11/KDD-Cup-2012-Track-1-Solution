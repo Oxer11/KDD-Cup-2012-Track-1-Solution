{
 "cells": [
  {
   "cell_type": "code",
   "execution_count": 1,
   "metadata": {},
   "outputs": [
    {
     "data": {
      "text/plain": [
       "1340128"
      ]
     },
     "execution_count": 1,
     "metadata": {},
     "output_type": "execute_result"
    }
   ],
   "source": [
    "f_std = open(\"KDD_Track1_solution.csv\", \"r\")\n",
    "std_len = countlines(f_std)"
   ]
  },
  {
   "cell_type": "code",
   "execution_count": 2,
   "metadata": {},
   "outputs": [
    {
     "data": {
      "text/plain": [
       "1340128"
      ]
     },
     "execution_count": 2,
     "metadata": {},
     "output_type": "execute_result"
    }
   ],
   "source": [
    "f_test = open(\"test.csv\", \"r\")\n",
    "test_len = countlines(f_test)"
   ]
  },
  {
   "cell_type": "code",
   "execution_count": 3,
   "metadata": {},
   "outputs": [
    {
     "name": "stdout",
     "output_type": "stream",
     "text": [
      "Score on Public Leader Board: 0.365890056659076\n",
      "Score on Private Leader Board: 0.35826040898758926\n"
     ]
    }
   ],
   "source": [
    "seekstart(f_std)\n",
    "readline(f_std)\n",
    "seekstart(f_test)\n",
    "readline(f_test)\n",
    "test_len -= 1\n",
    "std_len -= 1\n",
    "tot_pub, tot_pri = 0, 0\n",
    "num_pub, num_pri = 0, 0\n",
    "for i = 1:test_len\n",
    "    x = split(readline(f_std), ',')\n",
    "    (x[3] == \"Private\") ? (w = true; num_pri += 1) : (w = false; num_pub += 1)\n",
    "    y = split(readline(f_test), ',')\n",
    "    (split(x[2], ' ')[1] == \"\" || split(y[2], ' ')[1] == \"\") && continue\n",
    "    x = (parse(Int32, x[1]), map(t->parse(Int32, t), split(x[2], ' ')))\n",
    "    y = (parse(Int32, y[1]), map(t->parse(Int32, t), split(y[2], ' ')))\n",
    "    if x[1] != y[1]\n",
    "        println(\"error!\")\n",
    "        continue\n",
    "    end\n",
    "    dict = Dict{Int32, Bool}()\n",
    "    for t in x[2]\n",
    "        dict[t] = true\n",
    "    end\n",
    "    sum, num = 0, 0\n",
    "    for j = 1:size(y[2], 1)\n",
    "        (haskey(dict, y[2][j])) && (num += 1; sum += num/j)\n",
    "    end\n",
    "    # println(x)\n",
    "    # println(y)\n",
    "    # (num != 0) ? (println(sum/num)) : (println(0))\n",
    "    (num != 0) && (w ? (tot_pri += sum/size(x[2], 1)) \n",
    "                    : (tot_pub += sum/size(x[2], 1)))\n",
    "end\n",
    "tot_pri /= num_pri\n",
    "tot_pub /= num_pub\n",
    "println(\"Score on Public Leader Board: $tot_pub\")\n",
    "println(\"Score on Private Leader Board: $tot_pri\")"
   ]
  },
  {
   "cell_type": "code",
   "execution_count": null,
   "metadata": {},
   "outputs": [],
   "source": []
  }
 ],
 "metadata": {
  "@webio": {
   "lastCommId": null,
   "lastKernelId": null
  },
  "kernelspec": {
   "display_name": "Julia 1.0.3",
   "language": "julia",
   "name": "julia-1.0"
  },
  "language_info": {
   "file_extension": ".jl",
   "mimetype": "application/julia",
   "name": "julia",
   "version": "1.0.3"
  }
 },
 "nbformat": 4,
 "nbformat_minor": 2
}
