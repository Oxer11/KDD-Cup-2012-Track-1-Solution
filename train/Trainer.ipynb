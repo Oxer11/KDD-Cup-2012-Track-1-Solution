{
 "cells": [
  {
   "cell_type": "code",
   "execution_count": 1,
   "metadata": {},
   "outputs": [
    {
     "data": {
      "text/plain": [
       "6095"
      ]
     },
     "execution_count": 1,
     "metadata": {},
     "output_type": "execute_result"
    }
   ],
   "source": [
    "f_item = open(\"track1/item.txt\", \"r\")\n",
    "n = countlines(f_item)"
   ]
  },
  {
   "cell_type": "code",
   "execution_count": 2,
   "metadata": {},
   "outputs": [
    {
     "data": {
      "text/plain": [
       "15560776"
      ]
     },
     "execution_count": 2,
     "metadata": {},
     "output_type": "execute_result"
    }
   ],
   "source": [
    "f_rec_log_train = open(\"track1/pre_rec_data.txt\", \"r\")\n",
    "m = countlines(f_rec_log_train)"
   ]
  },
  {
   "cell_type": "code",
   "execution_count": 3,
   "metadata": {},
   "outputs": [
    {
     "data": {
      "text/plain": [
       "2320895"
      ]
     },
     "execution_count": 3,
     "metadata": {},
     "output_type": "execute_result"
    }
   ],
   "source": [
    "f_user_profile = open(\"track1/user_profile.txt\", \"r\")\n",
    "cnt_user = countlines(f_user_profile)"
   ]
  },
  {
   "cell_type": "code",
   "execution_count": 4,
   "metadata": {},
   "outputs": [
    {
     "name": "stdout",
     "output_type": "stream",
     "text": [
      "3794928 11765848\n"
     ]
    }
   ],
   "source": [
    "seekstart(f_rec_log_train)\n",
    "Ω = Array{Any, 1}()\n",
    "for i = 1:m\n",
    "    x = split(readline(f_rec_log_train), '\\t')\n",
    "    x = map(t->parse(Int32, t), x[1:4])\n",
    "    push!(Ω, x)\n",
    "end\n",
    "\n",
    "cnt_pos, cnt_neg = 0, 0\n",
    "for x in Ω\n",
    "    (x[3] == -1) && (cnt_neg += 1)\n",
    "    (x[3] == 1) && (cnt_pos += 1)\n",
    "end\n",
    "println(\"$cnt_pos $cnt_neg\")"
   ]
  },
  {
   "cell_type": "code",
   "execution_count": 5,
   "metadata": {},
   "outputs": [
    {
     "name": "stdout",
     "output_type": "stream",
     "text": [
      "Int32[100002, 1320812622, -1, 725379]\n",
      "Int32[100002, 1320812622, -1, 1606717]\n",
      "Int32[100002, 1320812622, -1, 2018059]\n",
      "Int32[100002, 1320812640, 1, 1606717]\n",
      "Int32[100002, 1320812640, 1, 1760376]\n",
      "Int32[100002, 1320812640, 1, 1774776]\n",
      "Int32[100003, 1318950627, -1, 2105515]\n",
      "Int32[100003, 1318950634, -1, 725371]\n",
      "Int32[100003, 1318950634, -1, 1606902]\n",
      "Int32[100003, 1318950634, 1, 1774717]\n",
      "Int32[100004, 1318606496, -1, 1774509]\n",
      "Int32[100004, 1318606496, -1, 1774613]\n",
      "Int32[100004, 1318606496, 1, 1774684]\n",
      "Int32[100004, 1320747791, -1, 1606902]\n",
      "Int32[100004, 1320747791, 1, 1774613]\n",
      "Int32[100004, 1320747791, 1, 1774716]\n",
      "Int32[100006, 1318473789, 1, 754522]\n",
      "Int32[100006, 1318473789, 1, 1775025]\n",
      "Int32[100006, 1318473789, 1, 2105598]\n",
      "Int32[100008, 1319172149, 1, 588271]\n"
     ]
    }
   ],
   "source": [
    "for x in Ω[1:20]\n",
    "    println(x)\n",
    "end"
   ]
  },
  {
   "cell_type": "code",
   "execution_count": 6,
   "metadata": {},
   "outputs": [],
   "source": [
    "struct User\n",
    "    id::Int32\n",
    "    age::Int16\n",
    "    gender::Int8\n",
    "    cnt_tweet::Int32\n",
    "end"
   ]
  },
  {
   "cell_type": "code",
   "execution_count": 7,
   "metadata": {},
   "outputs": [],
   "source": [
    "seekstart(f_user_profile)\n",
    "U = Array{User, 1}()\n",
    "for i = 1:cnt_user\n",
    "    x = split(readline(f_user_profile), '\\t')\n",
    "    try\n",
    "        x = map(t->parse(Int32, t), x[1:4])\n",
    "        x[2] = (x[2] < 1950) ? 0 :\n",
    "               (1950 ≤ x[2] < 2004) ? ceil((x[2] - 1950) / 2) + 1 : \n",
    "               (x[2] ≥ 2004) ? 28 : 29\n",
    "    catch ArgumentError\n",
    "        x[2] = \"29\"\n",
    "        x = map(t->parse(Int32, t), x[1:4])\n",
    "    end\n",
    "    push!(U, User(x[1], x[2], x[3], x[4]))\n",
    "end"
   ]
  },
  {
   "cell_type": "code",
   "execution_count": 8,
   "metadata": {},
   "outputs": [],
   "source": [
    "user_dict = Dict{Int32, Int32}()\n",
    "rev_user_dict = Dict{Int32, Int32}()\n",
    "id = 0\n",
    "for u in U\n",
    "    id += 1\n",
    "    user_dict[u.id] = id\n",
    "    rev_user_dict[id] = u.id\n",
    "    # (id <= 20) && println(rev_user_dict[id])\n",
    "end"
   ]
  },
  {
   "cell_type": "code",
   "execution_count": 9,
   "metadata": {
    "scrolled": true
   },
   "outputs": [],
   "source": [
    "seekstart(f_item)\n",
    "item_dict = Dict{Int32, Int32}()\n",
    "rev_item_dict = Dict{Int32, Int32}()\n",
    "for i = 1:n\n",
    "    x = split(readline(f_item), '\\t')\n",
    "    item_dict[parse(Int32, x[1])] = i\n",
    "    rev_item_dict[i] = parse(Int32, x[1])\n",
    "    # (i <= 20) && println(rev_item_dict[i])\n",
    "end"
   ]
  },
  {
   "cell_type": "code",
   "execution_count": 10,
   "metadata": {},
   "outputs": [],
   "source": [
    "for x in Ω\n",
    "    x[1], x[4] = user_dict[x[1]], item_dict[x[4]]\n",
    "end"
   ]
  },
  {
   "cell_type": "code",
   "execution_count": 14,
   "metadata": {},
   "outputs": [
    {
     "name": "stdout",
     "output_type": "stream",
     "text": [
      "0 0.17913594107696626\n",
      "1 0.17387649749674494\n",
      "2 0.1697983188958368\n",
      "3 0.16639299928111445\n",
      "4 0.16348247827138676\n",
      "5 0.16093689202936295\n",
      "6 0.1586641501873791\n",
      "7 0.15659895217624697\n",
      "8 0.15469526862525124\n",
      "9 0.15292062811809456\n",
      "10 0.1512515094592531\n",
      "11 0.14967057486825494\n",
      "12 0.1481652103948581\n",
      "13 0.14672654330949203\n",
      "14 0.1453485861319089\n",
      "15 0.14402746922007717\n",
      "16 0.1427607865765109\n",
      "17 0.14154704763645737\n",
      "18 0.1403852358789174\n",
      "19 0.1392744782385588\n",
      "20 0.13821381688187054\n",
      "21 0.1372020712255127\n",
      "22 0.13623777762211306\n",
      "23 0.13531918985746574\n",
      "24 0.1344443192208312\n",
      "25 0.13361099363582263\n",
      "26 0.1328169207312868\n",
      "27 0.1320597459579044\n",
      "0.1320597459579044\n"
     ]
    }
   ],
   "source": [
    "function evaluate(p, q, bᵤ, bᵢ)\n",
    "    s = 0\n",
    "    for x in Ω\n",
    "        r = (x[3] == 1) ? 1 : 0\n",
    "        r -= sigmoid(μ + bᵤ[x[1]] + bᵢ[x[4]] + q[:,x[4]]' * p[:,x[1]])\n",
    "        s += r * r\n",
    "    end\n",
    "    s /= m\n",
    "    s += λ₁ * sum(p .* p) + λ₂ * sum(q .* q) + λ₃ * sum(bᵤ .* bᵤ) + λ₄ * sum(bᵢ .* bᵢ)\n",
    "    return s\n",
    "end\n",
    "\n",
    "function sigmoid(x)\n",
    "    return 1 / (1 + exp(-x))\n",
    "end\n",
    "\n",
    "λ₁, λ₂, λ₃, λ₄ = 0.0, 0.0, 0.0, 0.0\n",
    "μ = cnt_pos / m\n",
    "d = 40\n",
    "α = 0.001\n",
    "iter, max_iter = 0, 100\n",
    "#p = rand(d, cnt_user)\n",
    "#q = rand(d, n)\n",
    "#bᵤ = rand(1, cnt_user)\n",
    "#bᵢ = rand(1, n)\n",
    "\n",
    "lst_error = evaluate(p, q, bᵤ, bᵢ)\n",
    "println(\"$iter $lst_error\")\n",
    "while true\n",
    "    try\n",
    "        iter += 1\n",
    "        for x in Ω\n",
    "            r = (x[3] == 1) ? 1 : 0\n",
    "            r -= sigmoid(μ + bᵤ[x[1]] + bᵢ[x[4]] + q[:,x[4]]' * p[:,x[1]])\n",
    "            bᵤ[x[1]] += α * (r - λ₁ * bᵤ[x[1]])\n",
    "            bᵢ[x[4]] += α * (r - λ₂ * bᵢ[x[4]])\n",
    "            q[:,x[4]] += α * (r * p[:,x[1]] - λ₃ * q[:,x[4]])\n",
    "            p[:,x[1]] += α * (r * q[:,x[4]] - λ₄ * p[:,x[1]])\n",
    "        end\n",
    "        error = evaluate(p, q, bᵤ, bᵢ)\n",
    "        (iter % 1 == 0) && println(\"$iter $error\")\n",
    "        if lst_error - error < 1e-5 #|| iter >= max_iter\n",
    "            break\n",
    "        end\n",
    "        lst_error = error\n",
    "    catch InterruptException\n",
    "        break\n",
    "    end\n",
    "end\n",
    "println(lst_error)"
   ]
  },
  {
   "cell_type": "code",
   "execution_count": 15,
   "metadata": {
    "scrolled": true
   },
   "outputs": [],
   "source": [
    "function read_from_log_test(f)\n",
    "    x = split(readline(f), '\\t')\n",
    "    x = map(t->parse(Int32, t), x[1:4])\n",
    "    return x\n",
    "end\n",
    "\n",
    "function test(f_rec_log_test, fout, key)\n",
    "    m_test = countlines(f_rec_log_test)\n",
    "    seekstart(f_rec_log_test)\n",
    "    user_cnt, i = 0, 1\n",
    "    cur = read_from_log_test(f_rec_log_test)\n",
    "    while i <= m_test\n",
    "        j = i + 1\n",
    "        user_cnt += 1\n",
    "        _Ω = Array{Any, 1}()\n",
    "        push!(_Ω, cur)\n",
    "        while j <= m_test\n",
    "            cur = read_from_log_test(f_rec_log_test)\n",
    "            (cur[1] != _Ω[1][1]) && break\n",
    "            j += 1\n",
    "            push!(_Ω, cur)\n",
    "        end\n",
    "        #(i ÷ 5000000 != j ÷ 5000000) && println(i, ' ', j)\n",
    "        dict = Array{Any, 1}()\n",
    "        for x in _Ω[1:j-i]\n",
    "            x₁, x₂ = user_dict[x[1]], item_dict[x[2]]\n",
    "            score = sigmoid(μ + bᵤ[x₁] + bᵢ[x₂] + q[:, x₂]' * p[:, x₁])\n",
    "            push!(dict, (score, x[2]))\n",
    "        end\n",
    "        sort!(dict)\n",
    "        write(fout, \"$(_Ω[1][1]),\")\n",
    "        for k = 1:min(size(dict, 1), 3)\n",
    "            t = size(dict, 1) - k + 1\n",
    "            # (dict[t][1] < 0.5) && break\n",
    "            write(fout, ((k == 1) ? \"\" : \" \") * \"$(dict[t][2])\")\n",
    "        end\n",
    "        write(fout, \"\\n\")\n",
    "        i = j\n",
    "    end\n",
    "end\n",
    "\n",
    "fout = open(\"test.csv\", \"w\")\n",
    "write(fout, \"id,clicks\\n\")\n",
    "\n",
    "# test(open(\"track1/rec_log_test_sorted.txt\", \"r\"), fout, \"Public\")\n",
    "test(open(\"track1/rec_log_test_pub.txt\", \"r\"), fout, \"Public\")\n",
    "test(open(\"track1/rec_log_test_pri.txt\", \"r\"), fout, \"Private\")\n",
    "\n",
    "close(fout)"
   ]
  },
  {
   "cell_type": "code",
   "execution_count": null,
   "metadata": {},
   "outputs": [],
   "source": []
  }
 ],
 "metadata": {
  "@webio": {
   "lastCommId": null,
   "lastKernelId": null
  },
  "kernelspec": {
   "display_name": "Julia 1.1.0",
   "language": "julia",
   "name": "julia-1.1"
  },
  "language_info": {
   "file_extension": ".jl",
   "mimetype": "application/julia",
   "name": "julia",
   "version": "1.1.0"
  }
 },
 "nbformat": 4,
 "nbformat_minor": 2
}
