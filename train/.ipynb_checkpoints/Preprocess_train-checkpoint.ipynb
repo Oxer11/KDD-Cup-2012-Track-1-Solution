{
 "cells": [
  {
   "cell_type": "code",
   "execution_count": 16,
   "metadata": {},
   "outputs": [
    {
     "data": {
      "text/plain": [
       "73209277"
      ]
     },
     "execution_count": 16,
     "metadata": {},
     "output_type": "execute_result"
    }
   ],
   "source": [
    "f_rec_log_train = open(\"track1/rec_log_train.txt\", \"r\")\n",
    "m = countlines(f_rec_log_train)"
   ]
  },
  {
   "cell_type": "code",
   "execution_count": 17,
   "metadata": {},
   "outputs": [
    {
     "name": "stdout",
     "output_type": "stream",
     "text": [
      "73209277\n"
     ]
    }
   ],
   "source": [
    "seekstart(f_rec_log_train)\n",
    "#m = 3000000\n",
    "Ω = Array{Any, 1}()\n",
    "for i = 1:m\n",
    "    x = split(readline(f_rec_log_train), '\\t')\n",
    "    x = map(t->parse(Int32, t), x[1:4])\n",
    "    x[2], x[4] = x[4], x[2]\n",
    "    push!(Ω, x)\n",
    "end\n",
    "println(size(Ω, 1))"
   ]
  },
  {
   "cell_type": "code",
   "execution_count": 18,
   "metadata": {},
   "outputs": [
    {
     "name": "stdout",
     "output_type": "stream",
     "text": [
      "999984\n",
      "1999959\n",
      "2999948\n",
      "3999677\n",
      "4999924\n",
      "5999988\n",
      "6999996\n",
      "7999971\n",
      "8999966\n",
      "9999955\n",
      "10999937\n",
      "11999994\n",
      "12999993\n",
      "13999900\n",
      "14999426\n",
      "15999894\n",
      "16999969\n",
      "17999297\n",
      "18999992\n",
      "19999129\n",
      "20999903\n",
      "21999967\n",
      "22999975\n",
      "23999955\n",
      "24999990\n",
      "25999996\n",
      "26999953\n",
      "27999916\n",
      "28999941\n",
      "29999083\n",
      "30999969\n",
      "31999429\n",
      "32999996\n",
      "33999659\n",
      "34999903\n",
      "35999987\n",
      "36999970\n",
      "37999956\n",
      "38999629\n",
      "39999951\n",
      "40999882\n",
      "41999949\n",
      "42999677\n",
      "43999874\n",
      "44999998\n",
      "45999917\n",
      "46999949\n",
      "47999455\n",
      "48999995\n",
      "49999712\n",
      "50999410\n",
      "51999927\n",
      "52999970\n",
      "53999994\n",
      "54999679\n",
      "55999991\n",
      "56999311\n",
      "57999726\n",
      "58999980\n",
      "59996560\n",
      "60999551\n",
      "61999970\n",
      "62999405\n",
      "63999971\n",
      "64998127\n",
      "65999980\n",
      "66999881\n",
      "67999903\n",
      "68999695\n",
      "69999986\n",
      "70999889\n",
      "71999533\n",
      "72999176\n",
      "14988833\n",
      "3794928 11193905\n"
     ]
    }
   ],
   "source": [
    "fout = open(\"track1/pre_rec_data_new.txt\", \"w\")\n",
    "sort!(Ω)\n",
    "_Ω = Array{Any, 1}()\n",
    "ϵ = 0.86\n",
    "π₋, π₊ = 1, 1\n",
    "i = 1\n",
    "while i ≤ m\n",
    "    j = i\n",
    "    user_id = Ω[i][1]\n",
    "    while j ≤ m && Ω[j][1] == user_id\n",
    "        j += 1\n",
    "    end\n",
    "    sum, num = 0, 0\n",
    "    for k = i : j - 2\n",
    "        t = Ω[k + 1][2] - Ω[k][2]\n",
    "        (t < 3600) && (sum += t; num += 1)\n",
    "    end\n",
    "    τ = (90 + sum / num) / 2\n",
    "    k = i\n",
    "    while k < j\n",
    "        l = k\n",
    "        cnt = 0\n",
    "        while l < j - 1 && (Ω[l + 1][2] - Ω[l][2] ≤ τ)\n",
    "            (Ω[l][3] == 1) && (cnt += 1)\n",
    "            l += 1\n",
    "        end\n",
    "        if 0 < cnt / (l - k + 1) ≤ ϵ\n",
    "            σ₋, σ₊ = 0, 0\n",
    "            for t = k:l\n",
    "                (Ω[t][3] == -1) && continue\n",
    "                (σ₋ == 0) && (σ₋ = t)\n",
    "                σ₊ = t\n",
    "            end\n",
    "            for t = k:l\n",
    "                if Ω[t][3] == 1\n",
    "                    push!(_Ω, Ω[t])\n",
    "                else\n",
    "                    (σ₋ - π₊ ≤ t ≤ σ₊ + π₋) && push!(_Ω, Ω[t])\n",
    "                end\n",
    "            end\n",
    "        end\n",
    "        k = l + 1\n",
    "    end\n",
    "    (i ÷ 1000000 != j ÷ 1000000) && (println(\"$i\"))\n",
    "    global i = j\n",
    "end\n",
    "for x in _Ω\n",
    "    write(fout, \"$(x[1])\\t$(x[2])\\t$(x[3])\\t$(x[4])\\n\")\n",
    "end\n",
    "close(fout)\n",
    "println(size(_Ω, 1))\n",
    "\n",
    "cnt_pos, cnt_neg = 0, 0\n",
    "for x in _Ω\n",
    "    (x[3] == -1) && (global cnt_neg += 1)\n",
    "    (x[3] == 1) && (global cnt_pos += 1)\n",
    "end\n",
    "println(\"$cnt_pos $cnt_neg\")\n"
   ]
  },
  {
   "cell_type": "code",
   "execution_count": null,
   "metadata": {},
   "outputs": [],
   "source": []
  }
 ],
 "metadata": {
  "@webio": {
   "lastCommId": null,
   "lastKernelId": null
  },
  "kernelspec": {
   "display_name": "Julia 1.1.0",
   "language": "julia",
   "name": "julia-1.1"
  },
  "language_info": {
   "file_extension": ".jl",
   "mimetype": "application/julia",
   "name": "julia",
   "version": "1.1.0"
  }
 },
 "nbformat": 4,
 "nbformat_minor": 2
}
