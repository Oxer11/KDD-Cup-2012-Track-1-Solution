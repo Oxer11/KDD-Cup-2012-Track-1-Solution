{
 "cells": [
  {
   "cell_type": "code",
   "execution_count": 1,
   "metadata": {},
   "outputs": [
    {
     "data": {
      "text/plain": [
       "6095"
      ]
     },
     "execution_count": 1,
     "metadata": {},
     "output_type": "execute_result"
    }
   ],
   "source": [
    "f_item = open(\"track1/item.txt\", \"r\")\n",
    "n = countlines(f_item)"
   ]
  },
  {
   "cell_type": "code",
   "execution_count": 2,
   "metadata": {},
   "outputs": [],
   "source": [
    "seekstart(f_item)\n",
    "item_dict = Dict{Int32, Int32}()\n",
    "for i = 1:n\n",
    "    x = split(readline(f_item), '\\t')\n",
    "    item_dict[parse(Int32, x[1])] = i\n",
    "end"
   ]
  },
  {
   "cell_type": "code",
   "execution_count": 3,
   "metadata": {},
   "outputs": [],
   "source": [
    "struct User\n",
    "    id::Int32\n",
    "    age::Int16\n",
    "    gender::Int8\n",
    "    cnt_tweet::Int32\n",
    "    tag_list::Array{Int32, 1}\n",
    "end"
   ]
  },
  {
   "cell_type": "code",
   "execution_count": 4,
   "metadata": {},
   "outputs": [
    {
     "name": "stdout",
     "output_type": "stream",
     "text": [
      "130304\n"
     ]
    }
   ],
   "source": [
    "f_user_profile = open(\"track1/user_profile.txt\", \"r\")\n",
    "cnt_user = countlines(f_user_profile)\n",
    "\n",
    "Tag_dict = Dict{Int32, Int32}()\n",
    "id_tag = 0\n",
    "seekstart(f_user_profile)\n",
    "U = Array{User, 1}()\n",
    "for i = 1:cnt_user\n",
    "    x = split(readline(f_user_profile), '\\t')\n",
    "    tag_list = map(t->parse(Int32, t), split(x[5], ';'))\n",
    "    (tag_list[1] == 0) && (tag_list = Array{Int32, 1}())\n",
    "    for id in tag_list\n",
    "        (haskey(Tag_dict, id)) && continue\n",
    "        id_tag += 1\n",
    "        Tag_dict[id] = id_tag\n",
    "    end\n",
    "    try\n",
    "        x = map(t->parse(Int32, t), x[1:4])\n",
    "        x[2] = (x[2] < 1950) ? 0 :\n",
    "               (1950 ≤ x[2] < 2004) ? ceil((x[2] - 1950) / 2) + 1 : \n",
    "               (x[2] ≥ 2004) ? 28 : 29\n",
    "    catch ArgumentError\n",
    "        x[2] = \"29\"\n",
    "        x = map(t->parse(Int32, t), x[1:4])\n",
    "    end\n",
    "    x[4] = x[4] != 0 ? floor(log2(x[4])) : 0\n",
    "    x[2] += 1\n",
    "    x[3] += 1\n",
    "    x[4] += 1\n",
    "    push!(U, User(x[1], x[2], x[3], x[4], tag_list))\n",
    "end\n",
    "println(id_tag)"
   ]
  },
  {
   "cell_type": "code",
   "execution_count": 5,
   "metadata": {},
   "outputs": [],
   "source": [
    "# build user_dict\n",
    "user_dict = Dict{Int32, Int32}()\n",
    "id = 0\n",
    "for u in U\n",
    "    id += 1\n",
    "    user_dict[u.id] = id\n",
    "end"
   ]
  },
  {
   "cell_type": "code",
   "execution_count": 6,
   "metadata": {},
   "outputs": [
    {
     "data": {
      "text/plain": [
       "2320895"
      ]
     },
     "execution_count": 6,
     "metadata": {},
     "output_type": "execute_result"
    }
   ],
   "source": [
    "f_user_keyword = open(\"track1/user_key_word.txt\", \"r\")\n",
    "m_user_keyword = countlines(f_user_keyword)"
   ]
  },
  {
   "cell_type": "code",
   "execution_count": 7,
   "metadata": {},
   "outputs": [
    {
     "name": "stdout",
     "output_type": "stream",
     "text": [
      "255142\n"
     ]
    }
   ],
   "source": [
    "User_key = Dict{Int32, Array{Tuple{Int32, Float32}, 1}}()\n",
    "seekstart(f_user_keyword)\n",
    "Key_dict = Dict{Int32, Int32}()\n",
    "key_id = 0\n",
    "for i = 1:m_user_keyword\n",
    "    line = split(readline(f_user_keyword))\n",
    "    user_id = user_dict[parse(Int32, line[1])]\n",
    "    keywords = map(t->split(t, ':'), split(line[2], ';'))\n",
    "    keywords = map((t->(parse(Int32, t[1]), parse(Float32, t[2]))), keywords)\n",
    "    User_key[user_id] = keywords\n",
    "    for x in User_key[user_id]\n",
    "        if !haskey(Key_dict, x[1])\n",
    "            key_id += 1\n",
    "            Key_dict[x[1]] = key_id\n",
    "        end\n",
    "    end\n",
    "end\n",
    "println(key_id)"
   ]
  },
  {
   "cell_type": "code",
   "execution_count": 8,
   "metadata": {},
   "outputs": [
    {
     "data": {
      "text/plain": [
       "50655143"
      ]
     },
     "execution_count": 8,
     "metadata": {},
     "output_type": "execute_result"
    }
   ],
   "source": [
    "f_user_sns = open(\"track1/user_sns.txt\", \"r\")\n",
    "len_sns = countlines(f_user_sns)"
   ]
  },
  {
   "cell_type": "code",
   "execution_count": 9,
   "metadata": {},
   "outputs": [],
   "source": [
    "seekstart(f_user_sns)\n",
    "S = Array{Array{Int32, 1}, 1}()\n",
    "for i = 1:cnt_user\n",
    "    push!(S, Array{Int32, 1}())\n",
    "end\n",
    "len_sns = 1000\n",
    "for i = 1:len_sns\n",
    "    x = map(t->user_dict[parse(Int32, t)], split(readline(f_user_sns), '\\t'))\n",
    "    push!(S[x[1]], x[2])\n",
    "end"
   ]
  },
  {
   "cell_type": "code",
   "execution_count": 10,
   "metadata": {},
   "outputs": [
    {
     "data": {
      "text/plain": [
       "10632833"
      ]
     },
     "execution_count": 10,
     "metadata": {},
     "output_type": "execute_result"
    }
   ],
   "source": [
    "f_user_action = open(\"track1/user_action.txt\", \"r\")\n",
    "len_action = countlines(f_user_action)"
   ]
  },
  {
   "cell_type": "code",
   "execution_count": 11,
   "metadata": {},
   "outputs": [],
   "source": [
    "seekstart(f_user_action)\n",
    "A = Array{Array{Int32, 1}, 1}()\n",
    "for i = 1:cnt_user\n",
    "    push!(A, Array{Int32, 1}())\n",
    "end\n",
    "len_action = 1000\n",
    "for i = 1:len_action\n",
    "    x = map(t->parse(Int32, t), split(readline(f_user_action), '\\t'))\n",
    "    push!(A[user_dict[x[1]]], user_dict[x[2]])\n",
    "end"
   ]
  },
  {
   "cell_type": "code",
   "execution_count": 12,
   "metadata": {},
   "outputs": [
    {
     "data": {
      "text/plain": [
       "11765848"
      ]
     },
     "execution_count": 12,
     "metadata": {},
     "output_type": "execute_result"
    }
   ],
   "source": [
    "fin = open(\"track1/pair_train.txt\", \"r\")\n",
    "m = countlines(fin)"
   ]
  },
  {
   "cell_type": "code",
   "execution_count": 13,
   "metadata": {},
   "outputs": [],
   "source": [
    "seekstart(fin)\n",
    "#m = 10000\n",
    "Ω = Array{Any, 1}()\n",
    "for i = 1:m\n",
    "    x = map(t->parse(Int32, t), split(readline(fin), ' '))\n",
    "    x[1] = user_dict[x[1]]\n",
    "    push!(x, i)\n",
    "    push!(Ω, x)\n",
    "end"
   ]
  },
  {
   "cell_type": "code",
   "execution_count": 14,
   "metadata": {},
   "outputs": [
    {
     "data": {
      "text/plain": [
       "update_timeq (generic function with 1 method)"
      ]
     },
     "execution_count": 14,
     "metadata": {},
     "output_type": "execute_result"
    }
   ],
   "source": [
    "function sigmoid(x)\n",
    "    return 1 / (1 + exp(-x))\n",
    "end\n",
    "\n",
    "function cal_timeb(k, t)\n",
    "    bₜ = (t - d⁻) / (d⁺ - d⁻) * bₜ⁻[k] + (d⁺ - t) / (d⁺ - d⁻) * bₜ⁺[k]\n",
    "    s = (t - d⁻) % 86400\n",
    "    bₛ = (s - s⁻) / (s⁺ - s⁻) * bₛ⁻[k] + (s⁺ - s) / (s⁺ - s⁻) * bₛ⁺[k]\n",
    "    hour = s ÷ 3600\n",
    "    return bₕ[k, hour + 1] + bₜ + bₛ\n",
    "end\n",
    "\n",
    "function cal_timeq(k, t)\n",
    "    zₜ = (t - d⁻) / (d⁺ - d⁻) * zₜ⁻[k, :] + (d⁺ - t) / (d⁺ - d⁻) * zₜ⁺[k, :]\n",
    "    s = (t - d⁻) % 86400\n",
    "    zₛ = (s - s⁻) / (s⁺ - s⁻) * zₛ⁻[k, :] + (s⁺ - s) / (s⁺ - s⁻) * zₛ⁺[k, :]\n",
    "    return zₜ + zₛ\n",
    "end\n",
    "\n",
    "function update_timeb(k, t, Δ)\n",
    "    global bₜ⁻[k] += (t - d⁻) / (d⁺ - d⁻) * Δ\n",
    "    global bₜ⁺[k] += (d⁺ - t) / (d⁺ - d⁻) * Δ\n",
    "    s = (t - d⁻) % 86400\n",
    "    global bₛ⁻[k] += (s - s⁻) / (s⁺ - s⁻) * Δ\n",
    "    global bₛ⁺[k] += (s⁺ - s) / (s⁺ - s⁻) * Δ\n",
    "    hour = s ÷ 3600\n",
    "    global bₕ[k, hour + 1] += Δ\n",
    "end\n",
    "\n",
    "function update_timeq(k, t, Δ)\n",
    "    global zₜ⁻[k, :] += (t - d⁻) / (d⁺ - d⁻) * Δ\n",
    "    global zₜ⁺[k, :] += (d⁺ - t) / (d⁺ - d⁻) * Δ\n",
    "    s = (t - d⁻) % 86400\n",
    "    global zₛ⁻[k, :] += (s - s⁻) / (s⁺ - s⁻) * Δ\n",
    "    global zₛ⁺[k, :] += (s⁺ - s) / (s⁺ - s⁻) * Δ\n",
    "end"
   ]
  },
  {
   "cell_type": "code",
   "execution_count": 15,
   "metadata": {},
   "outputs": [
    {
     "data": {
      "text/plain": [
       "Train (generic function with 1 method)"
      ]
     },
     "execution_count": 15,
     "metadata": {},
     "output_type": "execute_result"
    }
   ],
   "source": [
    "function Train(Ω, k)\n",
    "    lst_error, iter = 0, 0 \n",
    "    while true\n",
    "        try\n",
    "            iter += 1\n",
    "            error = 0\n",
    "            for x in Ω\n",
    "                u, i₁, i₂ = U[x[1]], U[user_dict[x[3]]], U[user_dict[x[5]]]\n",
    "                x₃, x₅ = item_dict[x[3]], item_dict[x[5]]\n",
    "                user_key = Dict{Int32, Float32}()\n",
    "                user_tag = Dict{Int32, Bool}()\n",
    "                for key in User_key[x[1]]\n",
    "                    user_key[key[1]] = key[2]\n",
    "                end\n",
    "                for tag in u.tag_list\n",
    "                    user_tag[tag] = 1\n",
    "                end\n",
    "                # Calculate pᵤ\n",
    "                p_tot = p[k, :, x[1]]\n",
    "                for xx in S[x[1]]\n",
    "                    p_tot += y[k, :, xx] / (size(S[x[1]], 1)^0.4)\n",
    "                end\n",
    "                for xx in A[x[1]]\n",
    "                    p_tot += y[k, :, xx] / (size(A[x[1]], 1)^0.5)\n",
    "                end\n",
    "                p_tot += yₐ[k, :, u.age, u.gender] + yₜ[k, :, u.cnt_tweet]\n",
    "                for key in User_key[x[1]]\n",
    "                    p_tot += key[2] * yₖ[k, :, Key_dict[key[1]]]\n",
    "                end\n",
    "                for tag in u.tag_list\n",
    "                    p_tot += yₚ[k, :, Tag_dict[tag]] / (size(u.tag_list, 1)^0.5)\n",
    "                end\n",
    "                # Calculate bᵢ\n",
    "                b = bᵢ[k, x₅] - bᵢ[k, x₃] \n",
    "                    + bₐ[k, u.age, x₅] - bₐ[k, u.age, x₃] \n",
    "                    + bᵧ[k, u.gender, x₅] - bᵧ[k, u.gender, x₃]\n",
    "                    + _bₐ[k, i₂.age, x[1]] - _bₐ[k, i₁.age, x[1]]\n",
    "                    + _bᵧ[k, i₂.gender, x[1]] - _bᵧ[k, i₁.gender, x[1]]\n",
    "                    + cal_timeb(k, x[4]) - cal_timeb(k, x[2])\n",
    "                for key in User_key[user_dict[x[5]]]\n",
    "                    (!haskey(user_key, key)) && continue\n",
    "                    b += bₖ[k, Key_dict[key]]\n",
    "                end\n",
    "                for key in User_key[user_dict[x[3]]]\n",
    "                    (!haskey(user_key, key)) && continue\n",
    "                    b -= bₖ[k, Key_dict[key]]\n",
    "                end\n",
    "                for tag in i₂.tag_list\n",
    "                    (!haskey(user_tag, tag)) && continue\n",
    "                    b += bₚ[k, Tag_dict[tag]]\n",
    "                end\n",
    "                for tag in i₁.tag_list\n",
    "                    (!haskey(user_tag, tag)) && continue\n",
    "                    b -= bₚ[k, Tag_dict[tag]]\n",
    "                end\n",
    "                # Calculate qᵢ\n",
    "                qᵢ = q[k, :, x₅] - q[k, :, x₃] + cal_timeq(k, x[4]) - cal_timeq(k, x[2])\n",
    "\n",
    "                # Predict Error\n",
    "                r = sigmoid(b + qᵢ[:]' * p_tot)\n",
    "                error += r\n",
    "\n",
    "                # Update bᵢ\n",
    "                bᵢ[k, x₅] += α * r * (1 - r)\n",
    "                bₐ[k, u.age, x₅] += α * r * (1 - r)\n",
    "                bᵧ[k, u.gender, x₅] += α * r * (1 - r)\n",
    "                _bₐ[k, i₂.age, x[1]] += α * r * (1 - r) \n",
    "                _bᵧ[k, i₂.gender, x[1]] += α * r * (1 - r)  \n",
    "                update_timeb(k, x[4], α * r * (1 - r))\n",
    "                bᵢ[k, x₃] -= α * r * (1 - r)\n",
    "                bₐ[k, u.age, x₃] -= α * r * (1 - r)\n",
    "                bᵧ[k, u.gender, x₃] -= α * r * (1 - r)\n",
    "                _bₐ[k, i₁.age, x[1]] -= α * r * (1 - r)\n",
    "                _bᵧ[k, i₁.gender, x[1]] -= α * r * (1 - r)\n",
    "                update_timeb(k, x[2], - α * r * (1 - r))\n",
    "                for key in User_key[user_dict[x[5]]]\n",
    "                    (!haskey(user_key, key)) && continue\n",
    "                    bₖ[k, Key_dict[key]] += α * r * (1 - r)\n",
    "                end\n",
    "                for key in User_key[user_dict[x[3]]]\n",
    "                    (!haskey(user_key, key)) && continue\n",
    "                    bₖ[k, Key_dict[key]] -= α * r * (1 - r)\n",
    "                end\n",
    "                # Update pᵤ\n",
    "                for xx in S[x[1]]\n",
    "                    y[k, :, xx] += (α * r * (1 - r) / (size(S[x[1]], 1)^0.4)) * qᵢ\n",
    "                end\n",
    "                for xx in A[x[1]]\n",
    "                    y[k, :, xx] += (α * r * (1 - r) / (size(A[x[1]], 1)^0.5)) * qᵢ\n",
    "                end\n",
    "                p[k, :, x[1]] += α * r * (1 - r) * qᵢ\n",
    "                yₐ[k, :, u.age, u.gender] += α * r * (1 - r) * qᵢ\n",
    "                yₜ[k, :, u.cnt_tweet] += α * r * (1 - r) * qᵢ\n",
    "                for key in User_key[x[1]]\n",
    "                    yₖ[k, :, Key_dict[key[1]]] += key[2] * α * r * (1 - r) * qᵢ\n",
    "                end\n",
    "                for tag in u.tag_list\n",
    "                    yₚ[k, :, Tag_dict[tag]] += α * r * (1 - r) / (size(u.tag_list, 1)^0.5) * qᵢ\n",
    "                end\n",
    "                # Update qᵢ\n",
    "                q[k, :, x₅] += α * r * (1 - r) * p_tot\n",
    "                update_timeq(k, x[4], α * r * (1 - r) * p_tot)\n",
    "                q[k, :, x₃] -= α * r * (1 - r) * p_tot\n",
    "                update_timeq(k, x[2], - α * r * (1 - r) * p_tot)\n",
    "            end\n",
    "            error /= _m\n",
    "            (iter % 1 == 0) && println(\"$iter $error\")\n",
    "            lst_error = error\n",
    "        catch InterruptException\n",
    "            break\n",
    "        end\n",
    "    end\n",
    "    println(lst_error)\n",
    "end"
   ]
  },
  {
   "cell_type": "code",
   "execution_count": 16,
   "metadata": {},
   "outputs": [
    {
     "data": {
      "text/plain": [
       "Predict (generic function with 1 method)"
      ]
     },
     "execution_count": 16,
     "metadata": {},
     "output_type": "execute_result"
    }
   ],
   "source": [
    "function Predict(Ω, k)\n",
    "    error = Array{Any, 1}()\n",
    "    for x in Ω\n",
    "        u, i₁, i₂ = U[x[1]], U[user_dict[x[3]]], U[user_dict[x[5]]]\n",
    "        x₃, x₅ = item_dict[x[3]], item_dict[x[5]]\n",
    "        user_key = Dict{Int32, Float32}()\n",
    "        user_tag = Dict{Int32, Bool}()\n",
    "        for key in User_key[x[1]]\n",
    "            user_key[key[1]] = key[2]\n",
    "        end\n",
    "        for tag in u.tag_list\n",
    "            user_tag[tag] = 1\n",
    "        end\n",
    "        # Calculate pᵤ\n",
    "        p_tot = p[k, :, x[1]]\n",
    "        for xx in S[x[1]]\n",
    "            p_tot += y[k, :, xx] / (size(S[x[1]], 1)^0.4)\n",
    "        end\n",
    "        for xx in A[x[1]]\n",
    "            p_tot += y[k, :, xx] / (size(A[x[1]], 1)^0.5)\n",
    "        end\n",
    "        p_tot += yₐ[k, :, u.age, u.gender] + yₜ[k, :, u.cnt_tweet]\n",
    "        for key in User_key[x[1]]\n",
    "            p_tot += key[2] * yₖ[k, :, Key_dict[key[1]]]\n",
    "        end\n",
    "        for tag in u.tag_list\n",
    "            p_tot += yₚ[k, :, Tag_dict[tag]] / (size(u.tag_list, 1)^0.5)\n",
    "        end\n",
    "        # Calculate bᵢ\n",
    "        b = bᵢ[k, x₅] - bᵢ[k, x₃] \n",
    "            + bₐ[k, u.age, x₅] - bₐ[k, u.age, x₃] \n",
    "            + bᵧ[k, u.gender, x₅] - bᵧ[k, u.gender, x₃]\n",
    "            + _bₐ[k, i₂.age, x[1]] - _bₐ[k, i₁.age, x[1]]\n",
    "            + _bᵧ[k, i₂.gender, x[1]] - _bᵧ[k, i₁.gender, x[1]]\n",
    "            + cal_timeb(k, x[4]) - cal_timeb(k, x[2])\n",
    "        for key in User_key[user_dict[x[5]]]\n",
    "            (!haskey(user_key, key)) && continue\n",
    "            b += bₖ[k, Key_dict[key]]\n",
    "        end\n",
    "        for key in User_key[user_dict[x[3]]]\n",
    "            (!haskey(user_key, key)) && continue\n",
    "            b -= bₖ[k, Key_dict[key]]\n",
    "        end\n",
    "        for tag in i₂.tag_list\n",
    "            (!haskey(user_tag, tag)) && continue\n",
    "            b += bₚ[k, Tag_dict[tag]]\n",
    "        end\n",
    "        for tag in i₁.tag_list\n",
    "            (!haskey(user_tag, tag)) && continue\n",
    "            b -= bₚ[k, Tag_dict[tag]]\n",
    "        end\n",
    "        # Calculate qᵢ\n",
    "        qᵢ = q[k, :, x₅] - q[k, :, x₃] + cal_timeq(k, x[4]) - cal_timeq(k, x[2])\n",
    "\n",
    "        # Predict Error\n",
    "        r = sigmoid(b + qᵢ[:]' * p_tot)\n",
    "        push!(error, (r > 0.5))\n",
    "    end\n",
    "    return error\n",
    "end"
   ]
  },
  {
   "cell_type": "code",
   "execution_count": null,
   "metadata": {
    "scrolled": false
   },
   "outputs": [],
   "source": [
    "using StatsBase\n",
    "\n",
    "K = 5\n",
    "W = zeros(m, 1)\n",
    "w = zeros(K, 1)\n",
    "for i = 1:m\n",
    "    W[i] = 1/m\n",
    "end\n",
    "\n",
    "d = 50\n",
    "α = 0.001\n",
    "d⁻, d⁺ = 1318348785, 1322668798\n",
    "s⁻, s⁺ = 0, 86400\n",
    "bₕ = rand(K, 24)\n",
    "bₖ = rand(K, key_id)\n",
    "bₜ⁻, bₜ⁺ = rand(K, 1), rand(K, 1)\n",
    "bₛ⁻, bₛ⁺ = rand(K, 1), rand(K, 1)\n",
    "zₜ⁻, zₜ⁺ = rand(K, d), rand(K, d)\n",
    "zₛ⁻, zₛ⁺ = rand(K, d), rand(K, d)\n",
    "p = rand(K, d, cnt_user)\n",
    "y = rand(K, d, cnt_user)\n",
    "q = rand(K, d, n)\n",
    "bᵢ = rand(K, n)\n",
    "bₐ = rand(K, 30, n)\n",
    "bᵧ = rand(K, 4, n)\n",
    "_bₐ = rand(K, 30, cnt_user)\n",
    "_bᵧ = rand(K, 4, cnt_user)\n",
    "bₚ = rand(K, id_tag)\n",
    "yₐ = rand(K, d, 30, 4)\n",
    "yₜ = rand(K, d, 16)\n",
    "yₖ = rand(K, d, key_id)\n",
    "yₚ = rand(K, d, id_tag)\n",
    "\n",
    "_m = 5000000\n",
    "\n",
    "for k = 1:K\n",
    "    Ωₖ = StatsBase.sample(Ω, ProbabilityWeights(W[:]), _m; replace=true, ordered=true)\n",
    "    println(Ωₖ[1:10])\n",
    "    Train(Ωₖ, k)\n",
    "    error = Predict(Ωₖ, k)\n",
    "    w[k] = 1 - sum(error)/_m\n",
    "    for i = 1:_m\n",
    "        (error[i]) && (W[Ωₖ[i][6]] *= w[k] / (1 - w[k]))\n",
    "    end\n",
    "    W /= sum(W)\n",
    "    println(w[k])\n",
    "    println(W[1:40])\n",
    "end"
   ]
  },
  {
   "cell_type": "code",
   "execution_count": null,
   "metadata": {},
   "outputs": [],
   "source": [
    "function read_from_log_test(f)\n",
    "    x = split(readline(f), '\\t')\n",
    "    x = map(t->parse(Int32, t), x[1:4])\n",
    "    return x\n",
    "end\n",
    "\n",
    "function test(f_rec_log_test, fout, key)\n",
    "    m_test = countlines(f_rec_log_test)\n",
    "    seekstart(f_rec_log_test)\n",
    "    user_cnt, i = 0, 1\n",
    "    cur = read_from_log_test(f_rec_log_test)\n",
    "    #m_test = 200\n",
    "    while i <= m_test\n",
    "        j = i + 1\n",
    "        user_cnt += 1\n",
    "        _Ω = Array{Any, 1}()\n",
    "        push!(_Ω, cur)\n",
    "        while j <= m_test\n",
    "            cur = read_from_log_test(f_rec_log_test)\n",
    "            (cur[1] != _Ω[1][1]) && break\n",
    "            j += 1\n",
    "            push!(_Ω, cur)\n",
    "        end\n",
    "        (i ÷ 5000000 != j ÷ 5000000) && println(i, ' ', j)\n",
    "        dict = Array{Any, 1}()\n",
    "        x₁ = user_dict[_Ω[1][1]]\n",
    "        u = U[x₁]\n",
    "        user_key = Dict{Int32, Float32}()\n",
    "        user_tag = Dict{Int32, Bool}()\n",
    "        for key in User_key[x₁]\n",
    "            user_key[key[1]] = key[2]\n",
    "        end\n",
    "        for tag in u.tag_list\n",
    "            user_tag[tag] = 1\n",
    "        end\n",
    "        p_tot = Array{Any, 1}()\n",
    "        for k = 1:K\n",
    "            push!(p_tot, p[k, :, x₁])\n",
    "            for xx in S[x₁]\n",
    "                p_tot[k] += y[k, :, xx] / (size(S[x₁], 1)^0.4)\n",
    "            end\n",
    "            for xx in A[x₁]\n",
    "                p_tot[k] += y[k, :, xx] / (size(A[x₁], 1)^0.5)\n",
    "            end\n",
    "            p_tot[k] += yₐ[k, :, u.age, u.gender] + yₜ[k, :, u.cnt_tweet]\n",
    "            for key in User_key[x₁]\n",
    "                p_tot[k] += key[2] * yₖ[k, :, Key_dict[key[1]]]\n",
    "            end\n",
    "            for tag in u.tag_list\n",
    "                p_tot[k] += yₚ[k, :, Tag_dict[tag]] / (size(u.tag_list, 1)^0.5)\n",
    "            end\n",
    "        end\n",
    "        for x in _Ω[1:j-i]\n",
    "            x₂ = item_dict[x[2]]\n",
    "            i₂ = U[user_dict[x[2]]] \n",
    "            score = 0\n",
    "            for k = 1:K\n",
    "                b = bᵢ[k, x₂] + cal_timeb(k, x[4]) + bₐ[k, u.age, x₂] + bᵧ[k, u.gender, x₂] + _bₐ[k, i₂.age, x₁] + _bᵧ[k, i₂.gender, x₁]\n",
    "                for key in User_key[user_dict[x[2]]]\n",
    "                    (!haskey(user_key, key)) && continue\n",
    "                    b += bₖ[k, Key_dict[key]]\n",
    "                end\n",
    "                for tag in i₂.tag_list\n",
    "                    (!haskey(user_tag, tag)) && continue\n",
    "                    b += bₚ[k, Tag_dict[tag]]\n",
    "                end\n",
    "                qᵢ = q[k, :, x₂] + cal_timeq(k, x[4])\n",
    "                score += log((1-w[k])/w[k]) * sigmoid(b + qᵢ[:]' * p_tot[k])\n",
    "            end\n",
    "            push!(dict, (score, x[2]))\n",
    "        end\n",
    "        sort!(dict)\n",
    "        write(fout, \"$(_Ω[1][1]),\")\n",
    "        for k = 1:min(size(dict, 1), 3)\n",
    "            t = size(dict, 1) - k + 1\n",
    "            write(fout, ((k == 1) ? \"\" : \" \") * \"$(dict[t][2])\")\n",
    "        end\n",
    "        write(fout, \"\\n\")\n",
    "        i = j\n",
    "    end\n",
    "end\n",
    "\n",
    "fout = open(\"test.csv\", \"w\")\n",
    "write(fout, \"id,clicks\\n\")\n",
    "\n",
    "test(open(\"track1/rec_log_test_pub.txt\", \"r\"), fout, \"Public\")\n",
    "test(open(\"track1/rec_log_test_pri.txt\", \"r\"), fout, \"Private\")\n",
    "\n",
    "close(fout)"
   ]
  },
  {
   "cell_type": "code",
   "execution_count": null,
   "metadata": {},
   "outputs": [],
   "source": []
  }
 ],
 "metadata": {
  "@webio": {
   "lastCommId": null,
   "lastKernelId": null
  },
  "kernelspec": {
   "display_name": "Julia 1.1.0",
   "language": "julia",
   "name": "julia-1.1"
  },
  "language_info": {
   "file_extension": ".jl",
   "mimetype": "application/julia",
   "name": "julia",
   "version": "1.1.0"
  }
 },
 "nbformat": 4,
 "nbformat_minor": 2
}
