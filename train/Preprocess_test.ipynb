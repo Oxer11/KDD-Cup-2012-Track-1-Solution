{
 "cells": [
  {
   "cell_type": "code",
   "execution_count": 1,
   "metadata": {},
   "outputs": [
    {
     "data": {
      "text/plain": [
       "34910937"
      ]
     },
     "execution_count": 1,
     "metadata": {},
     "output_type": "execute_result"
    }
   ],
   "source": [
    "f = open(\"track1/rec_log_test_sorted.txt\", \"r\")\n",
    "m = countlines(f)"
   ]
  },
  {
   "cell_type": "code",
   "execution_count": 2,
   "metadata": {},
   "outputs": [
    {
     "name": "stdout",
     "output_type": "stream",
     "text": [
      "19349608 15561329\n"
     ]
    }
   ],
   "source": [
    "fout_pub = open(\"track1/rec_log_test_pub.txt\", \"w\")\n",
    "fout_pri = open(\"track1/rec_log_test_pri.txt\", \"w\")\n",
    "\n",
    "seekstart(f)\n",
    "cnt_pub, cnt_pri = 0, 0\n",
    "for i = 1:m\n",
    "    l = readline(f)\n",
    "    x = parse(Int32, split(l, '\\t')[4])\n",
    "    (x < 1321891200) ? (write(fout_pub, l * \"\\n\"); cnt_pub += 1) : (write(fout_pri, l * \"\\n\"); cnt_pri += 1)\n",
    "end\n",
    "println(cnt_pub, ' ', cnt_pri)\n",
    "\n",
    "close(fout_pub)\n",
    "close(fout_pri)"
   ]
  },
  {
   "cell_type": "code",
   "execution_count": null,
   "metadata": {},
   "outputs": [],
   "source": []
  }
 ],
 "metadata": {
  "@webio": {
   "lastCommId": null,
   "lastKernelId": null
  },
  "kernelspec": {
   "display_name": "Julia 1.0.3",
   "language": "julia",
   "name": "julia-1.0"
  },
  "language_info": {
   "file_extension": ".jl",
   "mimetype": "application/julia",
   "name": "julia",
   "version": "1.0.3"
  }
 },
 "nbformat": 4,
 "nbformat_minor": 2
}
