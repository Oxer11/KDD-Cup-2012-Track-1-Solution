{
 "cells": [
  {
   "cell_type": "code",
   "execution_count": 25,
   "metadata": {},
   "outputs": [
    {
     "data": {
      "text/plain": [
       "11765848"
      ]
     },
     "execution_count": 25,
     "metadata": {},
     "output_type": "execute_result"
    }
   ],
   "source": [
    "fin = open(\"track1/pair_train.txt\", \"r\")\n",
    "m = countlines(fin)"
   ]
  },
  {
   "cell_type": "code",
   "execution_count": 2,
   "metadata": {},
   "outputs": [],
   "source": [
    "# build item_dict\n",
    "f_item = open(\"track1/item.txt\", \"r\")\n",
    "n = countlines(f_item)\n",
    "seekstart(f_item)\n",
    "item_dict = Dict{Int32, Int32}()\n",
    "for i = 1:n\n",
    "    x = split(readline(f_item), '\\t')\n",
    "    item_dict[parse(Int32, x[1])] = i\n",
    "end"
   ]
  },
  {
   "cell_type": "code",
   "execution_count": 3,
   "metadata": {},
   "outputs": [],
   "source": [
    "struct User\n",
    "    id::Int32\n",
    "    age::Int16\n",
    "    gender::Int8\n",
    "    cnt_tweet::Int32\n",
    "    tag_list::Array{Int32, 1}\n",
    "end"
   ]
  },
  {
   "cell_type": "code",
   "execution_count": 4,
   "metadata": {},
   "outputs": [
    {
     "name": "stdout",
     "output_type": "stream",
     "text": [
      "130304\n"
     ]
    }
   ],
   "source": [
    "f_user_profile = open(\"track1/user_profile.txt\", \"r\")\n",
    "cnt_user = countlines(f_user_profile)\n",
    "\n",
    "Tag_dict = Dict{Int32, Int32}()\n",
    "id_tag = 0\n",
    "seekstart(f_user_profile)\n",
    "U = Array{User, 1}()\n",
    "for i = 1:cnt_user\n",
    "    x = split(readline(f_user_profile), '\\t')\n",
    "    tag_list = map(t->parse(Int32, t), split(x[5], ';'))\n",
    "    (tag_list[1] == 0) && (tag_list = Array{Int32, 1}())\n",
    "    for id in tag_list\n",
    "        (haskey(Tag_dict, id)) && continue\n",
    "        id_tag += 1\n",
    "        Tag_dict[id] = id_tag\n",
    "    end\n",
    "    try\n",
    "        x = map(t->parse(Int32, t), x[1:4])\n",
    "        x[2] = (x[2] < 1950) ? 0 :\n",
    "               (1950 ≤ x[2] < 2004) ? ceil((x[2] - 1950) / 2) + 1 : \n",
    "               (x[2] ≥ 2004) ? 28 : 29\n",
    "    catch ArgumentError\n",
    "        x[2] = \"29\"\n",
    "        x = map(t->parse(Int32, t), x[1:4])\n",
    "    end\n",
    "    x[4] = x[4] != 0 ? floor(log2(x[4])) : 0\n",
    "    x[2] += 1\n",
    "    x[3] += 1\n",
    "    x[4] += 1\n",
    "    push!(U, User(x[1], x[2], x[3], x[4], tag_list))\n",
    "end\n",
    "println(id_tag)"
   ]
  },
  {
   "cell_type": "code",
   "execution_count": 5,
   "metadata": {},
   "outputs": [],
   "source": [
    "# build user_dict\n",
    "user_dict = Dict{Int32, Int32}()\n",
    "id = 0\n",
    "for u in U\n",
    "    id += 1\n",
    "    user_dict[u.id] = id\n",
    "end"
   ]
  },
  {
   "cell_type": "code",
   "execution_count": 6,
   "metadata": {},
   "outputs": [
    {
     "data": {
      "text/plain": [
       "50655143"
      ]
     },
     "execution_count": 6,
     "metadata": {},
     "output_type": "execute_result"
    }
   ],
   "source": [
    "f_user_sns = open(\"track1/user_sns.txt\", \"r\")\n",
    "len_sns = countlines(f_user_sns)"
   ]
  },
  {
   "cell_type": "code",
   "execution_count": 7,
   "metadata": {},
   "outputs": [],
   "source": [
    "seekstart(f_user_sns)\n",
    "S = Array{Array{Int32, 1}, 1}()\n",
    "for i = 1:cnt_user\n",
    "    push!(S, Array{Int32, 1}())\n",
    "end\n",
    "for i = 1:len_sns\n",
    "    x = map(t->user_dict[parse(Int32, t)], split(readline(f_user_sns), '\\t'))\n",
    "    push!(S[x[1]], x[2])\n",
    "end"
   ]
  },
  {
   "cell_type": "code",
   "execution_count": 8,
   "metadata": {},
   "outputs": [
    {
     "data": {
      "text/plain": [
       "10632833"
      ]
     },
     "execution_count": 8,
     "metadata": {},
     "output_type": "execute_result"
    }
   ],
   "source": [
    "f_user_action = open(\"track1/user_action.txt\", \"r\")\n",
    "len_action = countlines(f_user_action)"
   ]
  },
  {
   "cell_type": "code",
   "execution_count": 9,
   "metadata": {},
   "outputs": [],
   "source": [
    "seekstart(f_user_action)\n",
    "A = Array{Array{Int32, 1}, 1}()\n",
    "for i = 1:cnt_user\n",
    "    push!(A, Array{Int32, 1}())\n",
    "end\n",
    "for i = 1:len_action\n",
    "    x = map(t->parse(Int32, t), split(readline(f_user_action), '\\t'))\n",
    "    push!(A[user_dict[x[1]]], user_dict[x[2]])\n",
    "end"
   ]
  },
  {
   "cell_type": "code",
   "execution_count": 10,
   "metadata": {},
   "outputs": [
    {
     "data": {
      "text/plain": [
       "6095"
      ]
     },
     "execution_count": 10,
     "metadata": {},
     "output_type": "execute_result"
    }
   ],
   "source": [
    "f_item = open(\"track1/item.txt\", \"r\")\n",
    "m_item = countlines(f_item)"
   ]
  },
  {
   "cell_type": "code",
   "execution_count": 11,
   "metadata": {},
   "outputs": [
    {
     "name": "stdout",
     "output_type": "stream",
     "text": [
      "20935\n"
     ]
    }
   ],
   "source": [
    "Item_key = Dict{Int32, Array{Int32, 1}}()\n",
    "Key_dict = Dict{Int32, Int32}()\n",
    "key_id = 0\n",
    "seekstart(f_item)\n",
    "for i = 1:m_item\n",
    "    x = split(readline(f_item), '\\t')\n",
    "    item_id = item_dict[parse(Int32, x[1])]\n",
    "    Item_key[item_id] = map(t->parse(Int32, t), split(x[3], ';'))\n",
    "    for x in Item_key[item_id]\n",
    "        if !haskey(Key_dict, x)\n",
    "            key_id += 1\n",
    "            Key_dict[x] = key_id\n",
    "        end\n",
    "    end\n",
    "end\n",
    "println(key_id)"
   ]
  },
  {
   "cell_type": "code",
   "execution_count": 12,
   "metadata": {},
   "outputs": [
    {
     "data": {
      "text/plain": [
       "2320895"
      ]
     },
     "execution_count": 12,
     "metadata": {},
     "output_type": "execute_result"
    }
   ],
   "source": [
    "f_user_keyword = open(\"track1/user_key_word.txt\", \"r\")\n",
    "m_user_keyword = countlines(f_user_keyword)"
   ]
  },
  {
   "cell_type": "code",
   "execution_count": 13,
   "metadata": {},
   "outputs": [
    {
     "name": "stdout",
     "output_type": "stream",
     "text": [
      "255290\n"
     ]
    }
   ],
   "source": [
    "User_key = Dict{Int32, Array{Tuple{Int32, Float32}, 1}}()\n",
    "seekstart(f_user_keyword)\n",
    "for i = 1:m_user_keyword\n",
    "    line = split(readline(f_user_keyword))\n",
    "    user_id = user_dict[parse(Int32, line[1])]\n",
    "    keywords = map(t->split(t, ':'), split(line[2], ';'))\n",
    "    keywords = map((t->(parse(Int32, t[1]), parse(Float32, t[2]))), keywords)\n",
    "    User_key[user_id] = keywords\n",
    "    for x in User_key[user_id]\n",
    "        if !haskey(Key_dict, x[1])\n",
    "            key_id += 1\n",
    "            Key_dict[x[1]] = key_id\n",
    "        end\n",
    "    end\n",
    "end\n",
    "println(key_id)"
   ]
  },
  {
   "cell_type": "code",
   "execution_count": 26,
   "metadata": {},
   "outputs": [],
   "source": [
    "seekstart(fin)\n",
    "#m = 1000000\n",
    "Ω = Array{Any, 1}()\n",
    "for i = 1:m\n",
    "    x = map(t->parse(Int32, t), split(readline(fin), ' '))\n",
    "    x[1], x[3], x[5] = user_dict[x[1]], item_dict[x[3]], item_dict[x[5]]\n",
    "    push!(Ω, x)\n",
    "end"
   ]
  },
  {
   "cell_type": "code",
   "execution_count": null,
   "metadata": {
    "scrolled": true
   },
   "outputs": [
    {
     "name": "stdout",
     "output_type": "stream",
     "text": [
      "101 0\n",
      "102 0.7464357349112024\n",
      "103 0.7488766174344257\n"
     ]
    }
   ],
   "source": [
    "function sigmoid(x)\n",
    "    return 1 / (1 + exp(-x))\n",
    "end\n",
    "\n",
    "function cal_timeb(t)\n",
    "    bₜ = (t - d⁻) / (d⁺ - d⁻) * bₜ⁻ + (d⁺ - t) / (d⁺ - d⁻) * bₜ⁺\n",
    "    s = (t - d⁻) % 86400\n",
    "    bₛ = (s - s⁻) / (s⁺ - s⁻) * bₛ⁻ + (s⁺ - s) / (s⁺ - s⁻) * bₛ⁺\n",
    "    hour = s ÷ 3600\n",
    "    return bₕ[hour + 1] + bₜ + bₛ\n",
    "end\n",
    "\n",
    "function cal_timeq(t)\n",
    "    zₜ = (t - d⁻) / (d⁺ - d⁻) * zₜ⁻ + (d⁺ - t) / (d⁺ - d⁻) * zₜ⁺\n",
    "    s = (t - d⁻) % 86400\n",
    "    zₛ = (s - s⁻) / (s⁺ - s⁻) * zₛ⁻ + (s⁺ - s) / (s⁺ - s⁻) * zₛ⁺\n",
    "    return zₜ + zₛ\n",
    "end\n",
    "\n",
    "function update_timeb(t, Δ)\n",
    "    global bₜ⁻ += (t - d⁻) / (d⁺ - d⁻) * Δ\n",
    "    global bₜ⁺ += (d⁺ - t) / (d⁺ - d⁻) * Δ\n",
    "    s = (t - d⁻) % 86400\n",
    "    global bₛ⁻ += (s - s⁻) / (s⁺ - s⁻) * Δ\n",
    "    global bₛ⁺ += (s⁺ - s) / (s⁺ - s⁻) * Δ\n",
    "end\n",
    "\n",
    "function update_timeq(t, Δ)\n",
    "    global zₜ⁻ += (t - d⁻) / (d⁺ - d⁻) * Δ\n",
    "    global zₜ⁺ += (d⁺ - t) / (d⁺ - d⁻) * Δ\n",
    "    s = (t - d⁻) % 86400\n",
    "    global zₛ⁻ += (s - s⁻) / (s⁺ - s⁻) * Δ\n",
    "    global zₛ⁺ += (s⁺ - s) / (s⁺ - s⁻) * Δ\n",
    "end\n",
    "\n",
    "\n",
    "d = 60\n",
    "α = 0.001\n",
    "d⁻, d⁺ = 1318348785, 1322668798\n",
    "s⁻, s⁺ = 0, 86400\n",
    "#=\n",
    "iter = 0\n",
    "bₕ = rand(1, 24)\n",
    "bₖ = rand(1, key_id)\n",
    "bₜ⁻, bₜ⁺ = rand(), rand()\n",
    "bₛ⁻, bₛ⁺ = rand(), rand()\n",
    "zₜ⁻, zₜ⁺ = rand(d, 1), rand(d, 1)\n",
    "zₛ⁻, zₛ⁺ = rand(d, 1), rand(d, 1)\n",
    "p = rand(d, cnt_user)\n",
    "y = rand(d, cnt_user)\n",
    "q = rand(d, n)\n",
    "bᵢ = rand(1, n)\n",
    "bₐ = rand(30, n)\n",
    "bᵧ = rand(4, n)\n",
    "yₐ = rand(d, 30, 4)\n",
    "yₜ = rand(d, 16)\n",
    "yₖ = rand(d, key_id)\n",
    "yₚ = rand(d, id_tag)\n",
    "=#\n",
    "#Ω = Ω[1:1000000]\n",
    "#m = 1000000\n",
    "\n",
    "\n",
    "lst_error = 0\n",
    "\n",
    "while true\n",
    "    try\n",
    "        iter += 1\n",
    "        error = 0\n",
    "        for x in Ω\n",
    "            u = U[x[1]]\n",
    "            user_key = Dict{Int32, Float32}()\n",
    "            for key in User_key[x[1]]\n",
    "                user_key[key[1]] = key[2]\n",
    "            end\n",
    "            # Calculate pᵤ\n",
    "            p_tot = p[:, x[1]]\n",
    "            for xx in S[x[1]]\n",
    "                p_tot += y[:, xx] / (size(S[x[1]], 1)^0.4)\n",
    "            end\n",
    "            for xx in A[x[1]]\n",
    "                p_tot += y[:, xx] / (size(A[x[1]], 1)^0.5)\n",
    "            end\n",
    "            p_tot += yₐ[:, u.age, u.gender] + yₜ[:, u.cnt_tweet]\n",
    "            for key in User_key[x[1]]\n",
    "                p_tot += key[2] * yₖ[:, Key_dict[key[1]]]\n",
    "            end\n",
    "            for tag in u.tag_list\n",
    "                p_tot += yₚ[:, Tag_dict[tag]] / (size(u.tag_list, 1)^0.5)\n",
    "            end\n",
    "            # Calculate bᵢ\n",
    "            b = bᵢ[x[5]] - bᵢ[x[3]] \n",
    "                + bₐ[u.age, x[5]] - bₐ[u.age, x[3]] \n",
    "                + bᵧ[u.gender, x[5]] - bᵧ[u.gender, x[3]]\n",
    "                + cal_timeb(x[4]) - cal_timeb(x[2])\n",
    "            for key in Item_key[x[5]]\n",
    "                (!haskey(user_key, key)) && continue\n",
    "                b += bₖ[Key_dict[key]]\n",
    "            end\n",
    "            for key in Item_key[x[3]]\n",
    "                (!haskey(user_key, key)) && continue\n",
    "                b -= bₖ[Key_dict[key]]\n",
    "            end\n",
    "            # Calculate qᵢ\n",
    "            qᵢ = q[:, x[5]] - q[:, x[3]] + cal_timeq(x[4]) - cal_timeq(x[2])\n",
    "            \n",
    "            # Predict Error\n",
    "            r = sigmoid(b + qᵢ[:]' * p_tot)\n",
    "            error += r\n",
    "            \n",
    "            # Update bᵢ\n",
    "            bᵢ[x[5]] += α * r * (1 - r)\n",
    "            bₐ[u.age, x[5]] += α * r * (1 - r)\n",
    "            bᵧ[u.gender, x[5]] += α * r * (1 - r)\n",
    "            update_timeb(x[4], α * r * (1 - r))\n",
    "            bᵢ[x[3]] -= α * r * (1 - r)\n",
    "            bₐ[u.age, x[3]] -= α * r * (1 - r)\n",
    "            bᵧ[u.gender, x[3]] -= α * r * (1 - r)\n",
    "            update_timeb(x[2], - α * r * (1 - r))\n",
    "            for key in Item_key[x[5]]\n",
    "                (!haskey(user_key, key)) && continue\n",
    "                bₖ[Key_dict[key]] += α * r * (1 - r)\n",
    "            end\n",
    "            for key in Item_key[x[3]]\n",
    "                (!haskey(user_key, key)) && continue\n",
    "                bₖ[Key_dict[key]] -= α * r * (1 - r)\n",
    "            end\n",
    "            # Update pᵤ\n",
    "            for xx in S[x[1]]\n",
    "                y[:, xx] += (α * r * (1 - r) / (size(S[x[1]], 1)^0.4)) * qᵢ\n",
    "            end\n",
    "            for xx in A[x[1]]\n",
    "                y[:, xx] += (α * r * (1 - r) / (size(A[x[1]], 1)^0.5)) * qᵢ\n",
    "            end\n",
    "            p[:, x[1]] += α * r * (1 - r) * qᵢ\n",
    "            yₐ[:, u.age, u.gender] += α * r * (1 - r) * qᵢ\n",
    "            yₜ[:, u.cnt_tweet] += α * r * (1 - r) * qᵢ\n",
    "            for key in User_key[x[1]]\n",
    "                yₖ[:, Key_dict[key[1]]] += key[2] * α * r * (1 - r) * qᵢ\n",
    "            end\n",
    "            for tag in u.tag_list\n",
    "                yₚ[:, Tag_dict[tag]] += α * r * (1 - r) / (size(u.tag_list, 1)^0.5) * qᵢ\n",
    "            end\n",
    "            # Update qᵢ\n",
    "            q[:, x[5]] += α * r * (1 - r) * p_tot\n",
    "            update_timeq(x[4], α * r * (1 - r) * p_tot)\n",
    "            q[:, x[3]] -= α * r * (1 - r) * p_tot\n",
    "            update_timeq(x[2], - α * r * (1 - r) * p_tot)\n",
    "        end\n",
    "        error /= m\n",
    "        (iter % 1 == 0) && println(\"$iter $error\")\n",
    "        lst_error = error\n",
    "    catch InterruptException\n",
    "        break\n",
    "    end\n",
    "end\n",
    "println(lst_error)"
   ]
  },
  {
   "cell_type": "code",
   "execution_count": 24,
   "metadata": {},
   "outputs": [
    {
     "name": "stdout",
     "output_type": "stream",
     "text": [
      "4999977 5000050\n",
      "9999990 10000050\n",
      "14999999 15000020\n",
      "4999988 5000005\n",
      "9999954 10000009\n",
      "14999996 15000019\n"
     ]
    }
   ],
   "source": [
    "function read_from_log_test(f)\n",
    "    x = split(readline(f), '\\t')\n",
    "    x = map(t->parse(Int32, t), x[1:4])\n",
    "    return x\n",
    "end\n",
    "\n",
    "function test(f_rec_log_test, fout, key)\n",
    "    m_test = countlines(f_rec_log_test)\n",
    "    seekstart(f_rec_log_test)\n",
    "    user_cnt, i = 0, 1\n",
    "    cur = read_from_log_test(f_rec_log_test)\n",
    "    # m_test = 800\n",
    "    while i <= m_test\n",
    "        j = i + 1\n",
    "        user_cnt += 1\n",
    "        _Ω = Array{Any, 1}()\n",
    "        push!(_Ω, cur)\n",
    "        while j <= m_test\n",
    "            cur = read_from_log_test(f_rec_log_test)\n",
    "            (cur[1] != _Ω[1][1]) && break\n",
    "            j += 1\n",
    "            push!(_Ω, cur)\n",
    "        end\n",
    "        (i ÷ 5000000 != j ÷ 5000000) && println(i, ' ', j)\n",
    "        dict = Array{Any, 1}()\n",
    "        x₁ = user_dict[_Ω[1][1]]\n",
    "        u = U[x₁]\n",
    "        user_key = Dict{Int32, Float32}()\n",
    "        for key in User_key[x₁]\n",
    "            user_key[key[1]] = key[2]\n",
    "        end\n",
    "        p_tot = p[:, x₁]\n",
    "        for xx in S[x₁]\n",
    "            p_tot += y[:, xx[1]] / (size(S[x₁], 1)^0.4)\n",
    "        end\n",
    "        for xx in A[x₁]\n",
    "            p_tot += y[:, xx[1]] / (size(A[x₁], 1)^0.5)\n",
    "        end\n",
    "        p_tot += yₐ[:, u.age, u.gender] + yₜ[:, u.cnt_tweet]\n",
    "        for key in User_key[x₁]\n",
    "            p_tot += key[2] * yₖ[:, Key_dict[key[1]]]\n",
    "        end\n",
    "        for tag in u.tag_list\n",
    "            p_tot += yₚ[:, Tag_dict[tag]] / (size(u.tag_list, 1)^0.5)\n",
    "        end\n",
    "        for x in _Ω[1:j-i]\n",
    "            x₂ = item_dict[x[2]]\n",
    "            b = bᵢ[x₂] + cal_timeb(x[4]) + bₐ[u.age, x₂] + bᵧ[u.gender, x₂]\n",
    "            for key in Item_key[x₂]\n",
    "                (!haskey(user_key, key)) && continue\n",
    "                b += bₖ[Key_dict[key]]\n",
    "            end\n",
    "            qᵢ = q[:, x₂] + cal_timeq(x[4])\n",
    "            score = b + qᵢ[:]' * p_tot\n",
    "            push!(dict, (score, x[2]))\n",
    "        end\n",
    "        sort!(dict)\n",
    "        write(fout, \"$(_Ω[1][1]),\")\n",
    "        for k = 1:min(size(dict, 1), 3)\n",
    "            t = size(dict, 1) - k + 1\n",
    "            write(fout, ((k == 1) ? \"\" : \" \") * \"$(dict[t][2])\")\n",
    "        end\n",
    "        write(fout, \"\\n\")\n",
    "        i = j\n",
    "    end\n",
    "end\n",
    "\n",
    "fout = open(\"test.csv\", \"w\")\n",
    "write(fout, \"id,clicks\\n\")\n",
    "\n",
    "# test(open(\"track1/rec_log_test_sorted.txt\", \"r\"), fout, \"Public\")\n",
    "test(open(\"track1/rec_log_test_pub.txt\", \"r\"), fout, \"Public\")\n",
    "test(open(\"track1/rec_log_test_pri.txt\", \"r\"), fout, \"Private\")\n",
    "\n",
    "close(fout)"
   ]
  },
  {
   "cell_type": "code",
   "execution_count": null,
   "metadata": {},
   "outputs": [],
   "source": []
  }
 ],
 "metadata": {
  "@webio": {
   "lastCommId": null,
   "lastKernelId": null
  },
  "kernelspec": {
   "display_name": "Julia 1.0.3",
   "language": "julia",
   "name": "julia-1.0"
  },
  "language_info": {
   "file_extension": ".jl",
   "mimetype": "application/julia",
   "name": "julia",
   "version": "1.0.3"
  }
 },
 "nbformat": 4,
 "nbformat_minor": 2
}
