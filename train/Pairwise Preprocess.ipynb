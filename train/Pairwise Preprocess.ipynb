{
 "cells": [
  {
   "cell_type": "code",
   "execution_count": 22,
   "metadata": {},
   "outputs": [
    {
     "data": {
      "text/plain": [
       "15560776"
      ]
     },
     "execution_count": 22,
     "metadata": {},
     "output_type": "execute_result"
    }
   ],
   "source": [
    "f = open(\"track1/pre_rec_data.txt\", \"r\")\n",
    "m = countlines(f)"
   ]
  },
  {
   "cell_type": "code",
   "execution_count": 6,
   "metadata": {},
   "outputs": [
    {
     "data": {
      "text/plain": [
       "read_from (generic function with 1 method)"
      ]
     },
     "execution_count": 6,
     "metadata": {},
     "output_type": "execute_result"
    }
   ],
   "source": [
    "function read_from(f)\n",
    "    x = split(readline(f), '\\t')\n",
    "    x = map(t->parse(Int32, t), x)\n",
    "    return x\n",
    "end"
   ]
  },
  {
   "cell_type": "code",
   "execution_count": 24,
   "metadata": {},
   "outputs": [],
   "source": [
    "fout = open(\"track1/pair_train.txt\", \"w\")\n",
    "seekstart(f)\n",
    "i = 1\n",
    "cur = read_from(f)\n",
    "# m = 50\n",
    "while i <= m\n",
    "    j = i + 1\n",
    "    Ω = Array{Any, 1}()\n",
    "    push!(Ω, cur)\n",
    "    while j <= m\n",
    "        cur = read_from(f)\n",
    "        (cur[1] != Ω[1][1]) && break\n",
    "        j += 1\n",
    "        push!(Ω, cur)\n",
    "    end\n",
    "    Ω⁺, Ω⁻ = Array{Any, 1}(), Array{Any, 1}()\n",
    "    for x ∈ Ω\n",
    "        (x[3] == 1) ? push!(Ω⁺, x) : push!(Ω⁻, x)\n",
    "    end\n",
    "    id_list = rand(1:size(Ω⁺, 1), size(Ω⁻, 1), 1)\n",
    "    for k = 1:size(Ω⁻, 1)\n",
    "        write(fout, \"$(Ω⁻[k][1]) $(Ω⁻[k][2]) $(Ω⁻[k][4]) $(Ω⁺[id_list[k]][2]) $(Ω⁺[id_list[k]][4])\\n\")\n",
    "    end\n",
    "    i = j\n",
    "end\n",
    "close(fout)"
   ]
  },
  {
   "cell_type": "code",
   "execution_count": null,
   "metadata": {},
   "outputs": [],
   "source": []
  }
 ],
 "metadata": {
  "kernelspec": {
   "display_name": "Julia 1.1.0",
   "language": "julia",
   "name": "julia-1.1"
  },
  "language_info": {
   "file_extension": ".jl",
   "mimetype": "application/julia",
   "name": "julia",
   "version": "1.1.0"
  }
 },
 "nbformat": 4,
 "nbformat_minor": 2
}
