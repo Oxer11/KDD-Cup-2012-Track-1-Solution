{
 "cells": [
  {
   "cell_type": "code",
   "execution_count": 14,
   "metadata": {},
   "outputs": [
    {
     "data": {
      "text/plain": [
       "6095"
      ]
     },
     "execution_count": 14,
     "metadata": {},
     "output_type": "execute_result"
    }
   ],
   "source": [
    "f_item = open(\"track1/item.txt\", \"r\")\n",
    "n = countlines(f_item)"
   ]
  },
  {
   "cell_type": "code",
   "execution_count": 21,
   "metadata": {},
   "outputs": [],
   "source": [
    "seekstart(f_item)\n",
    "item_dict = Dict{Int32, Int32}()\n",
    "for i = 1:n\n",
    "    x = split(readline(f_item), '\\t')\n",
    "    item_dict[parse(Int32, x[1])] = i\n",
    "end"
   ]
  },
  {
   "cell_type": "code",
   "execution_count": 20,
   "metadata": {
    "scrolled": true
   },
   "outputs": [],
   "source": [
    "#=\n",
    "Item_key = Dict{Int32, Array{Int32, 1}}()\n",
    "Key_dict = Dict{Int32, Int32}()\n",
    "key_id = 0\n",
    "seekstart(f_item)\n",
    "for i = 1:m_item\n",
    "    x = split(readline(f_item), '\\t')\n",
    "    item_id = item_dict[parse(Int32, x[1])]\n",
    "    Item_key[item_id] = map(t->parse(Int32, t), split(x[3], ';'))\n",
    "    for x in Item_key[item_id]\n",
    "        if !haskey(Key_dict, x)\n",
    "            key_id += 1\n",
    "            Key_dict[x] = key_id\n",
    "        end\n",
    "    end\n",
    "end\n",
    "println(key_id)\n",
    "=#"
   ]
  },
  {
   "cell_type": "code",
   "execution_count": 1,
   "metadata": {},
   "outputs": [],
   "source": [
    "struct User\n",
    "    id::Int32\n",
    "    age::Int16\n",
    "    gender::Int8\n",
    "    cnt_tweet::Int32\n",
    "    tag_list::Array{Int32, 1}\n",
    "end"
   ]
  },
  {
   "cell_type": "code",
   "execution_count": 2,
   "metadata": {
    "scrolled": true
   },
   "outputs": [
    {
     "name": "stdout",
     "output_type": "stream",
     "text": [
      "130304\n"
     ]
    }
   ],
   "source": [
    "f_user_profile = open(\"track1/user_profile.txt\", \"r\")\n",
    "cnt_user = countlines(f_user_profile)\n",
    "\n",
    "Tag_dict = Dict{Int32, Int32}()\n",
    "id_tag = 0\n",
    "seekstart(f_user_profile)\n",
    "U = Array{User, 1}()\n",
    "for i = 1:cnt_user\n",
    "    x = split(readline(f_user_profile), '\\t')\n",
    "    tag_list = map(t->parse(Int32, t), split(x[5], ';'))\n",
    "    (tag_list[1] == 0) && (tag_list = Array{Int32, 1}())\n",
    "    for id in tag_list\n",
    "        (haskey(Tag_dict, id)) && continue\n",
    "        id_tag += 1\n",
    "        Tag_dict[id] = id_tag\n",
    "    end\n",
    "    try\n",
    "        x = map(t->parse(Int32, t), x[1:4])\n",
    "        x[2] = (x[2] < 1950) ? 0 :\n",
    "               (1950 ≤ x[2] < 2004) ? ceil((x[2] - 1950) / 2) + 1 : \n",
    "               (x[2] ≥ 2004) ? 28 : 29\n",
    "    catch ArgumentError\n",
    "        x[2] = \"29\"\n",
    "        x = map(t->parse(Int32, t), x[1:4])\n",
    "    end\n",
    "    x[4] = x[4] != 0 ? floor(log2(x[4])) : 0\n",
    "    x[2] += 1\n",
    "    x[3] += 1\n",
    "    x[4] += 1\n",
    "    push!(U, User(x[1], x[2], x[3], x[4], tag_list))\n",
    "end\n",
    "println(id_tag)"
   ]
  },
  {
   "cell_type": "code",
   "execution_count": 3,
   "metadata": {},
   "outputs": [],
   "source": [
    "# build user_dict\n",
    "user_dict = Dict{Int32, Int32}()\n",
    "id = 0\n",
    "for u in U\n",
    "    id += 1\n",
    "    user_dict[u.id] = id\n",
    "end"
   ]
  },
  {
   "cell_type": "code",
   "execution_count": 7,
   "metadata": {},
   "outputs": [
    {
     "data": {
      "text/plain": [
       "2320895"
      ]
     },
     "execution_count": 7,
     "metadata": {},
     "output_type": "execute_result"
    }
   ],
   "source": [
    "f_user_keyword = open(\"track1/user_key_word.txt\", \"r\")\n",
    "m_user_keyword = countlines(f_user_keyword)"
   ]
  },
  {
   "cell_type": "code",
   "execution_count": 9,
   "metadata": {},
   "outputs": [
    {
     "name": "stdout",
     "output_type": "stream",
     "text": [
      "255142\n"
     ]
    }
   ],
   "source": [
    "User_key = Dict{Int32, Array{Tuple{Int32, Float32}, 1}}()\n",
    "seekstart(f_user_keyword)\n",
    "Key_dict = Dict{Int32, Int32}()\n",
    "key_id = 0\n",
    "for i = 1:m_user_keyword\n",
    "    line = split(readline(f_user_keyword))\n",
    "    user_id = user_dict[parse(Int32, line[1])]\n",
    "    keywords = map(t->split(t, ':'), split(line[2], ';'))\n",
    "    keywords = map((t->(parse(Int32, t[1]), parse(Float32, t[2]))), keywords)\n",
    "    User_key[user_id] = keywords\n",
    "    for x in User_key[user_id]\n",
    "        if !haskey(Key_dict, x[1])\n",
    "            key_id += 1\n",
    "            Key_dict[x[1]] = key_id\n",
    "        end\n",
    "    end\n",
    "end\n",
    "println(key_id)"
   ]
  },
  {
   "cell_type": "code",
   "execution_count": 10,
   "metadata": {},
   "outputs": [
    {
     "data": {
      "text/plain": [
       "50655143"
      ]
     },
     "execution_count": 10,
     "metadata": {},
     "output_type": "execute_result"
    }
   ],
   "source": [
    "f_user_sns = open(\"track1/user_sns.txt\", \"r\")\n",
    "len_sns = countlines(f_user_sns)"
   ]
  },
  {
   "cell_type": "code",
   "execution_count": 11,
   "metadata": {},
   "outputs": [],
   "source": [
    "seekstart(f_user_sns)\n",
    "S = Array{Array{Int32, 1}, 1}()\n",
    "for i = 1:cnt_user\n",
    "    push!(S, Array{Int32, 1}())\n",
    "end\n",
    "for i = 1:len_sns\n",
    "    x = map(t->user_dict[parse(Int32, t)], split(readline(f_user_sns), '\\t'))\n",
    "    push!(S[x[1]], x[2])\n",
    "end"
   ]
  },
  {
   "cell_type": "code",
   "execution_count": 12,
   "metadata": {},
   "outputs": [
    {
     "data": {
      "text/plain": [
       "10632833"
      ]
     },
     "execution_count": 12,
     "metadata": {},
     "output_type": "execute_result"
    }
   ],
   "source": [
    "f_user_action = open(\"track1/user_action.txt\", \"r\")\n",
    "len_action = countlines(f_user_action)"
   ]
  },
  {
   "cell_type": "code",
   "execution_count": 13,
   "metadata": {},
   "outputs": [],
   "source": [
    "seekstart(f_user_action)\n",
    "A = Array{Array{Int32, 1}, 1}()\n",
    "for i = 1:cnt_user\n",
    "    push!(A, Array{Int32, 1}())\n",
    "end\n",
    "for i = 1:len_action\n",
    "    x = map(t->parse(Int32, t), split(readline(f_user_action), '\\t'))\n",
    "    push!(A[user_dict[x[1]]], user_dict[x[2]])\n",
    "end"
   ]
  },
  {
   "cell_type": "code",
   "execution_count": 17,
   "metadata": {
    "scrolled": true
   },
   "outputs": [
    {
     "data": {
      "text/plain": [
       "11765848"
      ]
     },
     "execution_count": 17,
     "metadata": {},
     "output_type": "execute_result"
    }
   ],
   "source": [
    "fin = open(\"track1/pair_train.txt\", \"r\")\n",
    "m = countlines(fin)"
   ]
  },
  {
   "cell_type": "code",
   "execution_count": 22,
   "metadata": {},
   "outputs": [],
   "source": [
    "seekstart(fin)\n",
    "m = 10000\n",
    "Ω = Array{Any, 1}()\n",
    "for i = 1:m\n",
    "    x = map(t->parse(Int32, t), split(readline(fin), ' '))\n",
    "    x[1] = user_dict[x[1]]\n",
    "    push!(Ω, x)\n",
    "end"
   ]
  },
  {
   "cell_type": "code",
   "execution_count": 25,
   "metadata": {
    "scrolled": true
   },
   "outputs": [
    {
     "name": "stdout",
     "output_type": "stream",
     "text": [
      "8 0.6595640065393562\n",
      "9 0.667321608896719\n",
      "10 0.6732918078276563\n",
      "11 0.678526674079127\n",
      "12 0.6834232599850643\n",
      "13 0.6886099325787188\n",
      "14 0.6938466382399123\n",
      "15 0.6986787828346085\n",
      "16 0.7028573423707034\n",
      "17 0.7062883158738585\n",
      "18 0.7101631751652177\n",
      "19 0.7139293497002549\n",
      "20 0.7185981426588288\n",
      "21 0.7222495718143463\n",
      "22 0.7252286257772391\n",
      "23 0.7279038282147138\n",
      "24 0.7303982609814511\n",
      "25 0.7325781260552726\n",
      "26 0.7347867516847227\n",
      "27 0.7367886369250741\n",
      "28 0.7392000944355671\n",
      "29 0.7413040654038296\n",
      "30 0.7437170197350088\n",
      "31 0.7461548745165854\n",
      "32 0.748112117934854\n",
      "33 0.7497886235066807\n",
      "34 0.7515653261603288\n",
      "35 0.7533821653774704\n",
      "36 0.7556977367910811\n",
      "37 0.7575470735536847\n",
      "38 0.7591525890530336\n",
      "39 0.7606263356219598\n",
      "40 0.7620021486141441\n",
      "41 0.7632671431355615\n",
      "42 0.7647019365970287\n",
      "43 0.7661297033835975\n",
      "44 0.7674004822633287\n",
      "45 0.7685031045988808\n",
      "46 0.7694282449436262\n",
      "47 0.7705400998174365\n",
      "48 0.7716047905717622\n",
      "49 0.772565166304387\n",
      "50 0.7736120387609753\n",
      "51 0.7748797019622202\n",
      "52 0.776254719823425\n",
      "53 0.7775736635374421\n",
      "54 0.7787895610503996\n",
      "55 0.7796823050994524\n",
      "56 0.7804286306192298\n",
      "57 0.7812806261531048\n",
      "58 0.7818892666561537\n",
      "59 0.7824778581074554\n",
      "60 0.7830395523906344\n",
      "61 0.7837459191873447\n",
      "62 0.7845378721039663\n",
      "63 0.7852009184438147\n",
      "64 0.7858821522787282\n",
      "65 0.7865149988441228\n",
      "66 0.7869970351179704\n",
      "67 0.7875479037628933\n",
      "68 0.7879652879466422\n",
      "69 0.7883331918473598\n",
      "70 0.7887627726065226\n",
      "71 0.789196099820934\n",
      "72 0.7897066006943625\n",
      "73 0.7902041761367852\n",
      "74 0.7905311318135668\n",
      "75 0.7908503075900934\n",
      "76 0.791423067259526\n",
      "77 0.7919407398418935\n",
      "78 0.7923904610754577\n",
      "79 0.7927540260150229\n",
      "80 0.7931025580388715\n",
      "81 0.7935161831250014\n",
      "82 0.793870370636525\n",
      "0.793870370636525\n"
     ]
    }
   ],
   "source": [
    "function sigmoid(x)\n",
    "    return 1 / (1 + exp(-x))\n",
    "end\n",
    "\n",
    "function cal_timeb(t)\n",
    "    bₜ = (t - d⁻) / (d⁺ - d⁻) * bₜ⁻ + (d⁺ - t) / (d⁺ - d⁻) * bₜ⁺\n",
    "    s = (t - d⁻) % 86400\n",
    "    bₛ = (s - s⁻) / (s⁺ - s⁻) * bₛ⁻ + (s⁺ - s) / (s⁺ - s⁻) * bₛ⁺\n",
    "    hour = s ÷ 3600\n",
    "    return bₕ[hour + 1] + bₜ + bₛ\n",
    "end\n",
    "\n",
    "function cal_timeq(t)\n",
    "    zₜ = (t - d⁻) / (d⁺ - d⁻) * zₜ⁻ + (d⁺ - t) / (d⁺ - d⁻) * zₜ⁺\n",
    "    s = (t - d⁻) % 86400\n",
    "    zₛ = (s - s⁻) / (s⁺ - s⁻) * zₛ⁻ + (s⁺ - s) / (s⁺ - s⁻) * zₛ⁺\n",
    "    return zₜ + zₛ\n",
    "end\n",
    "\n",
    "function update_timeb(t, Δ)\n",
    "    global bₜ⁻ += (t - d⁻) / (d⁺ - d⁻) * Δ\n",
    "    global bₜ⁺ += (d⁺ - t) / (d⁺ - d⁻) * Δ\n",
    "    s = (t - d⁻) % 86400\n",
    "    global bₛ⁻ += (s - s⁻) / (s⁺ - s⁻) * Δ\n",
    "    global bₛ⁺ += (s⁺ - s) / (s⁺ - s⁻) * Δ\n",
    "    hour = s ÷ 3600\n",
    "    global bₕ[hour + 1] += Δ\n",
    "end\n",
    "\n",
    "function update_timeq(t, Δ)\n",
    "    global zₜ⁻ += (t - d⁻) / (d⁺ - d⁻) * Δ\n",
    "    global zₜ⁺ += (d⁺ - t) / (d⁺ - d⁻) * Δ\n",
    "    s = (t - d⁻) % 86400\n",
    "    global zₛ⁻ += (s - s⁻) / (s⁺ - s⁻) * Δ\n",
    "    global zₛ⁺ += (s⁺ - s) / (s⁺ - s⁻) * Δ\n",
    "end\n",
    "\n",
    "\n",
    "d = 40\n",
    "α = 0.001\n",
    "d⁻, d⁺ = 1318348785, 1322668798\n",
    "s⁻, s⁺ = 0, 86400\n",
    "#=\n",
    "iter = 0\n",
    "bₕ = rand(1, 24)\n",
    "bₖ = rand(1, key_id)\n",
    "bₜ⁻, bₜ⁺ = rand(), rand()\n",
    "bₛ⁻, bₛ⁺ = rand(), rand()\n",
    "zₜ⁻, zₜ⁺ = rand(d, 1), rand(d, 1)\n",
    "zₛ⁻, zₛ⁺ = rand(d, 1), rand(d, 1)\n",
    "p = rand(d, cnt_user)\n",
    "y = rand(d, cnt_user)\n",
    "q = rand(d, n)\n",
    "bᵢ = rand(1, n)\n",
    "bₐ = rand(30, n)\n",
    "bᵧ = rand(4, n)\n",
    "_bₐ = rand(30, cnt_user)\n",
    "_bᵧ = rand(4, cnt_user)\n",
    "bₚ = rand(1, id_tag)\n",
    "yₐ = rand(d, 30, 4)\n",
    "yₜ = rand(d, 16)\n",
    "yₖ = rand(d, key_id)\n",
    "yₚ = rand(d, id_tag)\n",
    "=#\n",
    "\n",
    "\n",
    "lst_error = 0 \n",
    "\n",
    "while true\n",
    "    try\n",
    "        iter += 1\n",
    "        error = 0\n",
    "        for x in Ω\n",
    "            u, i₁, i₂ = U[x[1]], U[user_dict[x[3]]], U[user_dict[x[5]]]\n",
    "            x₃, x₅ = item_dict[x[3]], item_dict[x[5]]\n",
    "            user_key = Dict{Int32, Float32}()\n",
    "            user_tag = Dict{Int32, Bool}()\n",
    "            for key in User_key[x[1]]\n",
    "                user_key[key[1]] = key[2]\n",
    "            end\n",
    "            for tag in u.tag_list\n",
    "                user_tag[tag] = 1\n",
    "            end\n",
    "            # Calculate pᵤ\n",
    "            p_tot = p[:, x[1]]\n",
    "            for xx in S[x[1]]\n",
    "                p_tot += y[:, xx] / (size(S[x[1]], 1)^0.4)\n",
    "            end\n",
    "            for xx in A[x[1]]\n",
    "                p_tot += y[:, xx] / (size(A[x[1]], 1)^0.5)\n",
    "            end\n",
    "            p_tot += yₐ[:, u.age, u.gender] + yₜ[:, u.cnt_tweet]\n",
    "            for key in User_key[x[1]]\n",
    "                p_tot += key[2] * yₖ[:, Key_dict[key[1]]]\n",
    "            end\n",
    "            for tag in u.tag_list\n",
    "                p_tot += yₚ[:, Tag_dict[tag]] / (size(u.tag_list, 1)^0.5)\n",
    "            end\n",
    "            # Calculate bᵢ\n",
    "            b = bᵢ[x₅] - bᵢ[x₃] \n",
    "                + bₐ[u.age, x₅] - bₐ[u.age, x₃] \n",
    "                + bᵧ[u.gender, x₅] - bᵧ[u.gender, x₃]\n",
    "                + _bₐ[i₂.age, x[1]] - _bₐ[i₁.age, x[1]]\n",
    "                + _bᵧ[i₂.gender, x[1]] - _bᵧ[i₁.gender, x[1]]\n",
    "                + cal_timeb(x[4]) - cal_timeb(x[2])\n",
    "            for key in User_key[user_dict[x[5]]]\n",
    "                (!haskey(user_key, key)) && continue\n",
    "                b += bₖ[Key_dict[key]]\n",
    "            end\n",
    "            for key in User_key[user_dict[x[3]]]\n",
    "                (!haskey(user_key, key)) && continue\n",
    "                b -= bₖ[Key_dict[key]]\n",
    "            end\n",
    "            for tag in i₂.tag_list\n",
    "                (!haskey(user_tag, tag)) && continue\n",
    "                b += bₚ[Tag_dict[tag]]\n",
    "            end\n",
    "            for tag in i₁.tag_list\n",
    "                (!haskey(user_tag, tag)) && continue\n",
    "                b -= bₚ[Tag_dict[tag]]\n",
    "            end\n",
    "            # Calculate qᵢ\n",
    "            qᵢ = q[:, x₅] - q[:, x₃] + cal_timeq(x[4]) - cal_timeq(x[2])\n",
    "            \n",
    "            # Predict Error\n",
    "            r = sigmoid(b + qᵢ[:]' * p_tot)\n",
    "            error += r\n",
    "            \n",
    "            # Update bᵢ\n",
    "            bᵢ[x₅] += α * r * (1 - r)\n",
    "            bₐ[u.age, x₅] += α * r * (1 - r)\n",
    "            bᵧ[u.gender, x₅] += α * r * (1 - r)\n",
    "            _bₐ[i₂.age, x[1]] += α * r * (1 - r) \n",
    "            _bᵧ[i₂.gender, x[1]] += α * r * (1 - r)  \n",
    "            update_timeb(x[4], α * r * (1 - r))\n",
    "            bᵢ[x₃] -= α * r * (1 - r)\n",
    "            bₐ[u.age, x₃] -= α * r * (1 - r)\n",
    "            bᵧ[u.gender, x₃] -= α * r * (1 - r)\n",
    "            _bₐ[i₁.age, x[1]] -= α * r * (1 - r)\n",
    "            _bᵧ[i₁.gender, x[1]] -= α * r * (1 - r)\n",
    "            update_timeb(x[2], - α * r * (1 - r))\n",
    "            for key in User_key[user_dict[x[5]]]\n",
    "                (!haskey(user_key, key)) && continue\n",
    "                bₖ[Key_dict[key]] += α * r * (1 - r)\n",
    "            end\n",
    "            for key in User_key[user_dict[x[3]]]\n",
    "                (!haskey(user_key, key)) && continue\n",
    "                bₖ[Key_dict[key]] -= α * r * (1 - r)\n",
    "            end\n",
    "            # Update pᵤ\n",
    "            for xx in S[x[1]]\n",
    "                y[:, xx] += (α * r * (1 - r) / (size(S[x[1]], 1)^0.4)) * qᵢ\n",
    "            end\n",
    "            for xx in A[x[1]]\n",
    "                y[:, xx] += (α * r * (1 - r) / (size(A[x[1]], 1)^0.5)) * qᵢ\n",
    "            end\n",
    "            p[:, x[1]] += α * r * (1 - r) * qᵢ\n",
    "            yₐ[:, u.age, u.gender] += α * r * (1 - r) * qᵢ\n",
    "            yₜ[:, u.cnt_tweet] += α * r * (1 - r) * qᵢ\n",
    "            for key in User_key[x[1]]\n",
    "                yₖ[:, Key_dict[key[1]]] += key[2] * α * r * (1 - r) * qᵢ\n",
    "            end\n",
    "            for tag in u.tag_list\n",
    "                yₚ[:, Tag_dict[tag]] += α * r * (1 - r) / (size(u.tag_list, 1)^0.5) * qᵢ\n",
    "            end\n",
    "            # Update qᵢ\n",
    "            q[:, x₅] += α * r * (1 - r) * p_tot\n",
    "            update_timeq(x[4], α * r * (1 - r) * p_tot)\n",
    "            q[:, x₃] -= α * r * (1 - r) * p_tot\n",
    "            update_timeq(x[2], - α * r * (1 - r) * p_tot)\n",
    "        end\n",
    "        error /= m\n",
    "        (iter % 1 == 0) && println(\"$iter $error\")\n",
    "        lst_error = error\n",
    "    catch InterruptException\n",
    "        break\n",
    "    end\n",
    "end\n",
    "println(lst_error)"
   ]
  },
  {
   "cell_type": "code",
   "execution_count": 26,
   "metadata": {},
   "outputs": [
    {
     "name": "stdout",
     "output_type": "stream",
     "text": [
      "4999977 5000050\n",
      "9999990 10000050\n",
      "14999999 15000020\n",
      "4999988 5000005\n",
      "9999954 10000009\n",
      "14999996 15000019\n"
     ]
    }
   ],
   "source": [
    "function read_from_log_test(f)\n",
    "    x = split(readline(f), '\\t')\n",
    "    x = map(t->parse(Int32, t), x[1:4])\n",
    "    return x\n",
    "end\n",
    "\n",
    "function test(f_rec_log_test, fout, key)\n",
    "    m_test = countlines(f_rec_log_test)\n",
    "    seekstart(f_rec_log_test)\n",
    "    user_cnt, i = 0, 1\n",
    "    cur = read_from_log_test(f_rec_log_test)\n",
    "    #m_test = 200\n",
    "    while i <= m_test\n",
    "        j = i + 1\n",
    "        user_cnt += 1\n",
    "        _Ω = Array{Any, 1}()\n",
    "        push!(_Ω, cur)\n",
    "        while j <= m_test\n",
    "            cur = read_from_log_test(f_rec_log_test)\n",
    "            (cur[1] != _Ω[1][1]) && break\n",
    "            j += 1\n",
    "            push!(_Ω, cur)\n",
    "        end\n",
    "        (i ÷ 5000000 != j ÷ 5000000) && println(i, ' ', j)\n",
    "        dict = Array{Any, 1}()\n",
    "        x₁ = user_dict[_Ω[1][1]]\n",
    "        u = U[x₁]\n",
    "        user_key = Dict{Int32, Float32}()\n",
    "        user_tag = Dict{Int32, Bool}()\n",
    "        for key in User_key[x₁]\n",
    "            user_key[key[1]] = key[2]\n",
    "        end\n",
    "        for tag in u.tag_list\n",
    "            user_tag[tag] = 1\n",
    "        end\n",
    "        p_tot = p[:, x₁]\n",
    "        for xx in S[x₁]\n",
    "            p_tot += y[:, xx] / (size(S[x₁], 1)^0.4)\n",
    "        end\n",
    "        for xx in A[x₁]\n",
    "            p_tot += y[:, xx] / (size(A[x₁], 1)^0.5)\n",
    "        end\n",
    "        p_tot += yₐ[:, u.age, u.gender] + yₜ[:, u.cnt_tweet]\n",
    "        for key in User_key[x₁]\n",
    "            p_tot += key[2] * yₖ[:, Key_dict[key[1]]]\n",
    "        end\n",
    "        for tag in u.tag_list\n",
    "            p_tot += yₚ[:, Tag_dict[tag]] / (size(u.tag_list, 1)^0.5)\n",
    "        end\n",
    "        for x in _Ω[1:j-i]\n",
    "            x₂ = item_dict[x[2]]\n",
    "            i₂ = U[user_dict[x[2]]] \n",
    "            b = bᵢ[x₂] + cal_timeb(x[4]) + bₐ[u.age, x₂] + bᵧ[u.gender, x₂] + _bₐ[i₂.age, x₁] + _bᵧ[i₂.gender, x₁]\n",
    "            for key in User_key[user_dict[x[2]]]\n",
    "                (!haskey(user_key, key)) && continue\n",
    "                b += bₖ[Key_dict[key]]\n",
    "            end\n",
    "            for tag in i₂.tag_list\n",
    "                (!haskey(user_tag, tag)) && continue\n",
    "                b += bₚ[Tag_dict[tag]]\n",
    "            end\n",
    "            qᵢ = q[:, x₂] + cal_timeq(x[4])\n",
    "            score = b + qᵢ[:]' * p_tot\n",
    "            push!(dict, (score, x[2]))\n",
    "        end\n",
    "        sort!(dict)\n",
    "        write(fout, \"$(_Ω[1][1]),\")\n",
    "        for k = 1:min(size(dict, 1), 3)\n",
    "            t = size(dict, 1) - k + 1\n",
    "            write(fout, ((k == 1) ? \"\" : \" \") * \"$(dict[t][2])\")\n",
    "        end\n",
    "        write(fout, \"\\n\")\n",
    "        i = j\n",
    "    end\n",
    "end\n",
    "\n",
    "fout = open(\"test.csv\", \"w\")\n",
    "write(fout, \"id,clicks\\n\")\n",
    "\n",
    "# test(open(\"track1/rec_log_test_sorted.txt\", \"r\"), fout, \"Public\")\n",
    "test(open(\"track1/rec_log_test_pub.txt\", \"r\"), fout, \"Public\")\n",
    "test(open(\"track1/rec_log_test_pri.txt\", \"r\"), fout, \"Private\")\n",
    "\n",
    "close(fout)"
   ]
  },
  {
   "cell_type": "code",
   "execution_count": null,
   "metadata": {},
   "outputs": [],
   "source": []
  }
 ],
 "metadata": {
  "@webio": {
   "lastCommId": null,
   "lastKernelId": null
  },
  "kernelspec": {
   "display_name": "Julia 1.1.0",
   "language": "julia",
   "name": "julia-1.1"
  },
  "language_info": {
   "file_extension": ".jl",
   "mimetype": "application/julia",
   "name": "julia",
   "version": "1.1.0"
  }
 },
 "nbformat": 4,
 "nbformat_minor": 2
}
