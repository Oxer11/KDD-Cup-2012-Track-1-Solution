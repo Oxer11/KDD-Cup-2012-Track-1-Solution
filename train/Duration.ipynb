{
 "cells": [
  {
   "cell_type": "code",
   "execution_count": 1,
   "metadata": {},
   "outputs": [
    {
     "data": {
      "text/plain": [
       "73209277"
      ]
     },
     "execution_count": 1,
     "metadata": {},
     "output_type": "execute_result"
    }
   ],
   "source": [
    "f_rec_log_train = open(\"track1/rec_log_train_sorted.txt\", \"r\")\n",
    "m = countlines(f_rec_log_train)"
   ]
  },
  {
   "cell_type": "code",
   "execution_count": 55,
   "metadata": {},
   "outputs": [
    {
     "name": "stdout",
     "output_type": "stream",
     "text": [
      "10000000\n"
     ]
    }
   ],
   "source": [
    "seekstart(f_rec_log_train)\n",
    "m = 10000000\n",
    "Ω = Array{Any, 1}()\n",
    "for i = 1:m\n",
    "    x = split(readline(f_rec_log_train), '\\t')\n",
    "    x = map(t->parse(Int32, t), x[1:4])\n",
    "    push!(Ω, x)\n",
    "end\n",
    "println(size(Ω, 1))"
   ]
  },
  {
   "cell_type": "code",
   "execution_count": 56,
   "metadata": {},
   "outputs": [
    {
     "name": "stdout",
     "output_type": "stream",
     "text": [
      "999984\n",
      "1999959\n",
      "2999948\n",
      "3999677\n",
      "4999924\n",
      "5999988\n",
      "6999996\n",
      "7999971\n",
      "8999966\n",
      "9999955\n",
      "999984\n",
      "1999959\n",
      "2999948\n",
      "3999677\n",
      "4999924\n",
      "5999988\n",
      "6999996\n",
      "7999971\n",
      "8999966\n",
      "9999955\n",
      "Dict(2=>1053836,-1=>419533,16=>611921,11=>601108,7=>647016,9=>600943,10=>615994,8=>572764,6=>532889,4=>606503,5=>387589,13=>613323,14=>609110,15=>611720,12=>604087,1=>702660)\n",
      "Dict(2=>42031,-1=>77674,16=>93551,11=>33739,7=>51173,9=>38344,10=>34145,8=>42873,6=>43781,4=>36623,5=>31716,14=>32570,13=>34287,15=>31783,12=>34065,1=>21532)\n",
      "Dict(2=>0.0398838,-1=>0.185144,16=>0.152881,11=>0.056128,7=>0.0790908,9=>0.0638064,10=>0.0554307,8=>0.0748528,6=>0.0821578,4=>0.0603839,5=>0.0818289,13=>0.0559037,14=>0.0534715,15=>0.0519568,12=>0.0563909,1=>0.0306436)\n"
     ]
    }
   ],
   "source": [
    "T = Array{Any, 1}()\n",
    "i = 1\n",
    "while i ≤ m\n",
    "    j = i\n",
    "    user_id = Ω[i][1]\n",
    "    while j ≤ m && Ω[j][1] == user_id\n",
    "        j += 1\n",
    "    end\n",
    "    lst = -1\n",
    "    for k = i : j - 2\n",
    "        t = Ω[k + 1][4] - Ω[k][4]\n",
    "        (t != 0) ? (lst = t) : (t = lst)\n",
    "        push!(T, t)\n",
    "    end\n",
    "    (i ÷ 1000000 != j ÷ 1000000) && (println(\"$i\"))\n",
    "    global i = j\n",
    "end\n",
    "sort!(T)\n",
    "\n",
    "time_stamp = Dict{Int32, Int32}()\n",
    "time_stamp_true = Dict{Int32, Int32}()\n",
    "block = size(T, 1) ÷ 16 + 1\n",
    "i = 1\n",
    "while i ≤ m\n",
    "    j = i\n",
    "    user_id = Ω[i][1]\n",
    "    while j ≤ m && Ω[j][1] == user_id\n",
    "        j += 1\n",
    "    end\n",
    "    lst = -1\n",
    "    for k = i : j - 2\n",
    "        t = Ω[k + 1][4] - Ω[k][4]\n",
    "        (t != 0) ? (lst = t) : (t = lst)\n",
    "        (t != -1) ? (id = searchsortedfirst(T, t) ÷ block + 1) : (id = -1)\n",
    "        (haskey(time_stamp, id)) ? (time_stamp[id] += 1) : (time_stamp[id] = 1)\n",
    "        (Ω[k + 1][3] == 1) && ((haskey(time_stamp_true, id)) ? (time_stamp_true[id] += 1) : (time_stamp_true[id] = 1))\n",
    "    end\n",
    "    (i ÷ 1000000 != j ÷ 1000000) && (println(\"$i\"))\n",
    "    global i = j\n",
    "end\n",
    "\n",
    "P = Dict{Int32, Float32}()\n",
    "for x in keys(time_stamp)\n",
    "    (haskey(time_stamp_true, x)) ? (P[x] = time_stamp_true[x] / time_stamp[x]) : (P[x] = 0)\n",
    "end\n",
    "println(time_stamp)\n",
    "println(time_stamp_true)\n",
    "println(P)"
   ]
  },
  {
   "cell_type": "code",
   "execution_count": 57,
   "metadata": {},
   "outputs": [
    {
     "name": "stdout",
     "output_type": "stream",
     "text": [
      "4999977 5000050\n",
      "9999990 10000050\n",
      "14999999 15000020\n",
      "4999988 5000005\n",
      "9999954 10000009\n",
      "14999996 15000019\n"
     ]
    }
   ],
   "source": [
    "function read_from_log_test(f)\n",
    "    x = split(readline(f), '\\t')\n",
    "    x = map(t->parse(Int32, t), x[1:4])\n",
    "    return x\n",
    "end\n",
    "\n",
    "function test(f_rec_log_test, fout, key)\n",
    "    m_test = countlines(f_rec_log_test)\n",
    "    seekstart(f_rec_log_test)\n",
    "    i = 1\n",
    "    cur = read_from_log_test(f_rec_log_test)\n",
    "    # m_test = 800\n",
    "    while i <= m_test\n",
    "        j = i + 1\n",
    "        _Ω = Array{Any, 1}()\n",
    "        push!(_Ω, cur)\n",
    "        while j <= m_test\n",
    "            cur = read_from_log_test(f_rec_log_test)\n",
    "            (cur[1] != _Ω[1][1]) && break\n",
    "            j += 1\n",
    "            push!(_Ω, cur)\n",
    "        end\n",
    "        (i ÷ 5000000 != j ÷ 5000000) && println(i, ' ', j)\n",
    "        dict = Array{Any, 1}()\n",
    "        for k = 1:j-i\n",
    "            x = _Ω[k]\n",
    "            (k == 1) ? (t = -1) : (t = _Ω[k][4] - _Ω[k - 1][4])\n",
    "            score = P[searchsortedfirst(T, t) ÷ block + 1]\n",
    "            push!(dict, (score, x[2]))\n",
    "        end\n",
    "        sort!(dict)\n",
    "        write(fout, \"$(_Ω[1][1]),\")\n",
    "        for k = 1:min(size(dict, 1), 3)\n",
    "            t = size(dict, 1) - k + 1\n",
    "            write(fout, ((k == 1) ? \"\" : \" \") * \"$(dict[t][2])\")\n",
    "        end\n",
    "        write(fout, \"\\n\")\n",
    "        i = j\n",
    "    end\n",
    "end\n",
    "\n",
    "fout = open(\"test.csv\", \"w\")\n",
    "write(fout, \"id,clicks\\n\")\n",
    "\n",
    "test(open(\"track1/rec_log_test_pub.txt\", \"r\"), fout, \"Public\")\n",
    "test(open(\"track1/rec_log_test_pri.txt\", \"r\"), fout, \"Private\")\n",
    "\n",
    "close(fout)"
   ]
  },
  {
   "cell_type": "code",
   "execution_count": null,
   "metadata": {},
   "outputs": [],
   "source": []
  }
 ],
 "metadata": {
  "kernelspec": {
   "display_name": "Julia 1.1.0",
   "language": "julia",
   "name": "julia-1.1"
  },
  "language_info": {
   "file_extension": ".jl",
   "mimetype": "application/julia",
   "name": "julia",
   "version": "1.1.0"
  }
 },
 "nbformat": 4,
 "nbformat_minor": 2
}
